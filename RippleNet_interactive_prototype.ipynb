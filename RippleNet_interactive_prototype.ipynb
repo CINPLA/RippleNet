{
 "cells": [
  {
   "cell_type": "markdown",
   "metadata": {
    "colab_type": "text",
    "id": "TRi97ozm6FOa"
   },
   "source": [
    "# RippleNet_interactive_prototype\n",
    "Test implementation of user-interactive detection and rejection of detected SPW-R events using RippleNet.\n",
    "\n",
    "Author: Espen Hagen (<https://github.com/espenhgn>)\n",
    "\n",
    "LICENSE: <https://github.com/CINPLA/RippleNet/blob/master/LICENSE>"
   ]
  },
  {
   "cell_type": "code",
   "execution_count": null,
   "metadata": {
    "colab": {
     "base_uri": "https://localhost:8080/",
     "height": 51
    },
    "colab_type": "code",
    "executionInfo": {
     "elapsed": 1073,
     "status": "ok",
     "timestamp": 1589371460958,
     "user": {
      "displayName": "Espen Hagen",
      "photoUrl": "",
      "userId": "16098989268258426650"
     },
     "user_tz": -120
    },
    "id": "ORidess26FOc",
    "outputId": "82b43f0b-cfff-4e01-d132-5e30d2ff5697"
   },
   "outputs": [],
   "source": [
    "# allow running on Google Colab for training, validation etc. \n",
    "try:\n",
    "    from google.colab import drive\n",
    "    drive.mount('/content/gdrive')\n",
    "    %cd gdrive/My\\ Drive/Colab\\ Notebooks/RippleNet\n",
    "    %tensorflow_version 2.x\n",
    "except:\n",
    "    pass"
   ]
  },
  {
   "cell_type": "code",
   "execution_count": null,
   "metadata": {
    "colab": {},
    "colab_type": "code",
    "id": "OVCFFihL6FOg"
   },
   "outputs": [],
   "source": [
    "%matplotlib widget"
   ]
  },
  {
   "cell_type": "code",
   "execution_count": null,
   "metadata": {
    "colab": {},
    "colab_type": "code",
    "id": "oHIuvIPZ6FOj"
   },
   "outputs": [],
   "source": [
    "import os\n",
    "import numpy as np\n",
    "import scipy.signal as ss\n",
    "import matplotlib.pyplot as plt\n",
    "from matplotlib.widgets import Button\n",
    "import tensorflow\n",
    "import tensorflow as tf\n",
    "from tensorflow import keras\n",
    "import h5py\n",
    "from matplotlib import colors\n",
    "from time import time, sleep\n",
    "import pickle\n",
    "import pandas as pd\n",
    "from datetime import datetime"
   ]
  },
  {
   "cell_type": "code",
   "execution_count": null,
   "metadata": {
    "colab": {
     "base_uri": "https://localhost:8080/",
     "height": 340
    },
    "colab_type": "code",
    "executionInfo": {
     "elapsed": 6116,
     "status": "ok",
     "timestamp": 1589371466186,
     "user": {
      "displayName": "Espen Hagen",
      "photoUrl": "",
      "userId": "16098989268258426650"
     },
     "user_tz": -120
    },
    "id": "A7FDouHB6FOm",
    "outputId": "bb0e84d5-f31d-40b7-9ec6-9203fe21274e"
   },
   "outputs": [],
   "source": [
    "from tensorflow.python.client import device_lib\n",
    "print('running Tensorflow v{}'.format(tf.__version__))\n",
    "print('running on devices:\\n', device_lib.list_local_devices())\n",
    "print('Num GPUs Available: ', len(tf.config.experimental.list_physical_devices('GPU')))\n",
    "print('GPU device:\\n', tf.test.gpu_device_name())"
   ]
  },
  {
   "cell_type": "code",
   "execution_count": null,
   "metadata": {
    "colab": {},
    "colab_type": "code",
    "id": "x1o7cqNd6FOp"
   },
   "outputs": [],
   "source": [
    "# fix seeds for reproducible results\n",
    "np.random.seed(1234)\n",
    "tf.random.set_seed(12345)"
   ]
  },
  {
   "cell_type": "markdown",
   "metadata": {
    "colab_type": "text",
    "id": "7esPdkWl6FOs"
   },
   "source": [
    "# Load RippleNet instance"
   ]
  },
  {
   "cell_type": "code",
   "execution_count": null,
   "metadata": {
    "colab": {
     "base_uri": "https://localhost:8080/",
     "height": 34
    },
    "colab_type": "code",
    "executionInfo": {
     "elapsed": 6093,
     "status": "ok",
     "timestamp": 1589371466189,
     "user": {
      "displayName": "Espen Hagen",
      "photoUrl": "",
      "userId": "16098989268258426650"
     },
     "user_tz": -120
    },
    "id": "DDZ7hvSg6FOs",
    "outputId": "98f2d536-086d-47ee-a2b6-0d9606a18b3c"
   },
   "outputs": [],
   "source": [
    "# load info on best model (path, threhsold settings)\n",
    "with open('best_model.pkl', 'rb') as f:\n",
    "    best_model = pickle.load(f)\n",
    "    print(best_model)"
   ]
  },
  {
   "cell_type": "code",
   "execution_count": null,
   "metadata": {
    "colab": {
     "base_uri": "https://localhost:8080/",
     "height": 731
    },
    "colab_type": "code",
    "executionInfo": {
     "elapsed": 7618,
     "status": "ok",
     "timestamp": 1589371467727,
     "user": {
      "displayName": "Espen Hagen",
      "photoUrl": "",
      "userId": "16098989268258426650"
     },
     "user_tz": -120
    },
    "id": "WbWLmGVl6FOv",
    "outputId": "d4179fea-0f7c-41c3-e3bc-413f2016cc8d"
   },
   "outputs": [],
   "source": [
    "# load the 'best' performing model on the validation sets\n",
    "model = keras.models.load_model(best_model['model_file'])\n",
    "model.summary()"
   ]
  },
  {
   "cell_type": "markdown",
   "metadata": {
    "colab_type": "text",
    "id": "hiTn0LIH6FOy"
   },
   "source": [
    "# Parameters"
   ]
  },
  {
   "cell_type": "code",
   "execution_count": null,
   "metadata": {
    "colab": {},
    "colab_type": "code",
    "id": "3DfrsIXQ6FOy"
   },
   "outputs": [],
   "source": [
    "# some needed parameters\n",
    "Fs = 1250 # Hz, sampling freq\n",
    "lag = int(100 * Fs / 1000) # 100 ms @ Fs\n",
    "\n",
    "# Threshold settings for detecting ripple events from prediction, \n",
    "threshold = best_model['threshold'] # detection threshold on the interval (0, 1)\n",
    "distance = best_model['distance']  # timesteps, distance*Fs/1000 peak interdistance in units of ms\n",
    "width = best_model['width']       # timesteps, width*Fs/1000 peak width in units of ms. \n",
    "# see scipy.signal.find_peaks documentation"
   ]
  },
  {
   "cell_type": "code",
   "execution_count": null,
   "metadata": {
    "colab": {},
    "colab_type": "code",
    "id": "pvMh97Cm6FO0"
   },
   "outputs": [],
   "source": [
    "# bandpass-filter LFP filter settings\n",
    "Wn = (150 / (Fs / 2), 250 / (Fs / 2)) # critical frequencies\n",
    "N = 2                                 # filter order\n",
    "b, a = ss.butter(N, Wn, btype='bandpass') # filter coefficients "
   ]
  },
  {
   "cell_type": "code",
   "execution_count": null,
   "metadata": {
    "colab": {},
    "colab_type": "code",
    "id": "CHAKkTRm6FO3"
   },
   "outputs": [],
   "source": [
    "# Wavelet parameters for spectrograms\n",
    "S_freqs = np.arange(100., 251, 10) # Hz, wavelet spectrogram frequencies\n",
    "\n",
    "#set up continuous wavelets\n",
    "w=6.\n",
    "s=1.\n",
    "\n",
    "#wavelets\n",
    "waveletfun = ss.morlet\n",
    "wavelets = []\n",
    "for i, freq in enumerate(S_freqs):\n",
    "    kwargs = {\n",
    "        'M' : int(2. * s * Fs * w / freq),\n",
    "        'w' : w,\n",
    "        's' : s,\n",
    "        'complete' : True,\n",
    "    }\n",
    "    wl = waveletfun(**kwargs)\n",
    "    wavelets.append(wl)"
   ]
  },
  {
   "cell_type": "markdown",
   "metadata": {
    "colab_type": "text",
    "id": "_ibFJZ_06FO5"
   },
   "source": [
    "# Session time series"
   ]
  },
  {
   "cell_type": "markdown",
   "metadata": {
    "colab_type": "text",
    "id": "mH6XR5-B6FO6"
   },
   "source": [
    "Load `HDF5` file with raw LFP trace for processing. The file must be structured as follows:\n",
    "```\n",
    "/<session_name>          Group                # group for session data\n",
    "/<session_name>/lfp      Dataset {753914}     # input LFP in units of mV [mandatory], float type\n",
    "/<session_name>/S        Dataset {753914, 16} # spectrogram [optional], float type\n",
    "/<session_name>/S_freqs  Dataset {16}         # spectrogram center frequencies [optional], float type\n",
    "/<session_name>/X1       Dataset {753914}     # signal (e.g., band-pass filtered LFP) [optional], float type\n",
    "/<session_name>/rippleLocs Dataset {86}       # ripple locations in units of time steps [optional], int type\n",
    "/<session_name>/run_speed Dataset {753914}    # run speed [optional], int/float type\n",
    "/<session_name>/y        Dataset {753914}     # one-hot encoding of ripple events [optional], float type\n",
    "```"
   ]
  },
  {
   "cell_type": "markdown",
   "metadata": {
    "colab_type": "text",
    "id": "eEJA2b2o6FO6"
   },
   "source": [
    "## open file with complete LFP time series:\n",
    "Adapt `session` and `file_path` below accordingly. \n",
    "\n",
    "If `file_mode` equals `r+` RippleNet predictions (ripple locations) and  data segments  (lfp, lfp_bp, spectrograms) will be  stored in the file, if `file_mode` equals `r`, the input file will be left untouched. "
   ]
  },
  {
   "cell_type": "code",
   "execution_count": null,
   "metadata": {
    "colab": {
     "base_uri": "https://localhost:8080/",
     "height": 34
    },
    "colab_type": "code",
    "executionInfo": {
     "elapsed": 7541,
     "status": "ok",
     "timestamp": 1589371467730,
     "user": {
      "displayName": "Espen Hagen",
      "photoUrl": "",
      "userId": "16098989268258426650"
     },
     "user_tz": -120
    },
    "id": "LTB_BdA-6FO7",
    "outputId": "32fffe24-c7a0-4eb3-bf6f-2e127a461979"
   },
   "outputs": [],
   "source": [
    "file_mode = 'r' \n",
    "session = 'm4029_session1'  # holdout dataset\n",
    "file_path = os.path.join('data', '{}.h5'.format(session))\n",
    "f = h5py.File(file_path, file_mode)\n",
    "print('opened file {} ({})'.format(file_path, f))"
   ]
  },
  {
   "cell_type": "markdown",
   "metadata": {
    "colab_type": "text",
    "id": "1ocjDfic6FO-"
   },
   "source": [
    "# Run RippleNet on data\n",
    "Two operation modes are possible.  \n",
    "If `continuous_prediction==True` (not recommended for now) use entire time series as input,  \n",
    "if `continuous_prediction==False` (recommended) reshape input LFP into segments of lengths `Fs` (i.e., 1s) and use as input. \n",
    "\n",
    "This operation may take a moment."
   ]
  },
  {
   "cell_type": "code",
   "execution_count": null,
   "metadata": {
    "colab": {},
    "colab_type": "code",
    "id": "uhAf77uk6FO-",
    "scrolled": true
   },
   "outputs": [],
   "source": [
    "# Switch or reshaping into 1s segments, running \n",
    "continuous_prediction = False\n",
    "\n",
    "# input must have correct shape (n_samples, n_timesteps, 1)\n",
    "lfp = f[session]['lfp'][:]\n",
    "\n",
    "# Switch or reshaping input into segments, or running on full time series\n",
    "if continuous_prediction:\n",
    "    # Predict using entire dataset at once\n",
    "    Y_cont_pred = model.predict(np.expand_dims(np.expand_dims(lfp, 0), -1))\n",
    "else:\n",
    "    # Reshape time axis to segments of Fs duration\n",
    "    segment_length = int(0.5 * Fs) # Fs\n",
    "\n",
    "    # run predictions n times with shifts of length segment_length / n,\n",
    "    # then final output will be averaged\n",
    "    n = 5 # nicely divisible with Fs=1250\n",
    "    shift = int(segment_length / n)\n",
    "    container = []\n",
    "    for i in range(n):\n",
    "        lfp_reshaped = np.concatenate((np.zeros((1, i * shift, 1)), \n",
    "                                       np.expand_dims(np.expand_dims(lfp, 0), -1)), axis=1)\n",
    "\n",
    "        # pad with zeros \n",
    "        lfp_reshaped = np.concatenate((lfp_reshaped, \n",
    "                                         np.zeros((1, segment_length - \n",
    "                                                   (lfp_reshaped.size % segment_length), 1))), \n",
    "                                        axis=1)\n",
    "        \n",
    "        # reshape into segments of length  \n",
    "        lfp_reshaped = lfp_reshaped.reshape((-1, segment_length, 1))\n",
    "\n",
    "        # run prediction on data\n",
    "        y_hat = model.predict(lfp_reshaped)\n",
    "\n",
    "        # Reshape to zero-padded size\n",
    "        y_hat = y_hat.reshape((1, -1, 1))[:, :lfp_reshaped.size, :]\n",
    "\n",
    "        # strip elements that were padded with zeros\n",
    "        container.append(y_hat[:, i * shift:i * shift + lfp.size, :])\n",
    "\n",
    "    # average or median\n",
    "    y_hat = np.median(container, axis=0).flatten()\n",
    "\n",
    "    # remove intermediate predictions\n",
    "    del container, lfp_reshaped"
   ]
  },
  {
   "cell_type": "code",
   "execution_count": null,
   "metadata": {
    "colab": {},
    "colab_type": "code",
    "id": "gcLOOJ6b6FPA"
   },
   "outputs": [],
   "source": [
    "y_hat = y_hat.flatten()"
   ]
  },
  {
   "cell_type": "markdown",
   "metadata": {
    "colab_type": "text",
    "id": "hjoq3lvR6FPF"
   },
   "source": [
    "## Find peaks in the prediction `y_hat`"
   ]
  },
  {
   "cell_type": "code",
   "execution_count": null,
   "metadata": {
    "colab": {},
    "colab_type": "code",
    "id": "l6zULfFO6FPF"
   },
   "outputs": [],
   "source": [
    "ripple_locations, _ = ss.find_peaks(y_hat, height=threshold, distance=distance, width=width)"
   ]
  },
  {
   "cell_type": "code",
   "execution_count": null,
   "metadata": {
    "colab": {},
    "colab_type": "code",
    "id": "Of0VKiva6FPH"
   },
   "outputs": [],
   "source": [
    "# remove ripple locations in movement periods (within 0.5s of movement event)\n",
    "if 'run_speed' in list(f[session].keys()):\n",
    "    # smoothen run_speed by 1s boxcar filter:\n",
    "    run_speed = np.convolve(f[session]['run_speed'], ss.boxcar(Fs) / Fs, 'same')\n",
    "    # keep ripples where run_speed == 0:\n",
    "    ripple_locations = ripple_locations[run_speed[ripple_locations] == 0]"
   ]
  },
  {
   "cell_type": "code",
   "execution_count": null,
   "metadata": {
    "colab": {},
    "colab_type": "code",
    "id": "mUKXbzLJ6FPK"
   },
   "outputs": [],
   "source": [
    "# define `probability` as value of y_hat at time of events\n",
    "# (so not in the strict sense as in statistics)\n",
    "probability = y_hat[ripple_locations]"
   ]
  },
  {
   "cell_type": "markdown",
   "metadata": {
    "colab_type": "text",
    "id": "9b68kJP56FPM"
   },
   "source": [
    "## Get samples of LFPs etc. for each detected ripple event"
   ]
  },
  {
   "cell_type": "code",
   "execution_count": null,
   "metadata": {
    "colab": {},
    "colab_type": "code",
    "id": "XjTW0f5B6FPN"
   },
   "outputs": [],
   "source": [
    "def get_samples(lfp, lfp_bp, lfp_S, ripple_locations, lag=100, Fs=1250):\n",
    "    '''\n",
    "    Parameters:\n",
    "    -----------\n",
    "    Returns:\n",
    "    --------\n",
    "    '''\n",
    "    # create arrays\n",
    "    X = [] # container for raw data segments\n",
    "    X_bp = [] # container for gamma-band data segments\n",
    "    X_S = []  # container for specgram\n",
    "    \n",
    "    sample_size = lag * 2 + 1\n",
    "\n",
    "    for ind in ripple_locations:\n",
    "        offset = -sample_size // 2        \n",
    "        \n",
    "        idx = np.arange(sample_size) + ind + offset\n",
    "        if idx.min() < 0:\n",
    "            idx -= idx.min()\n",
    "        elif idx.max() >= lfp.size:\n",
    "            idx = idx - (idx.max() - lfp.size + 1) \n",
    "        X.append(lfp[idx])\n",
    "        X_bp.append(lfp_bp[idx])\n",
    "        X_S.append(lfp_S[idx, ])\n",
    "        \n",
    "    # convert to numpy arrays, downcast to single precision\n",
    "    X = np.array(X).astype(np.float32)\n",
    "    X_bp = np.array(X_bp).astype(np.float32)\n",
    "    X_S = np.array(X_S).astype(np.float32)\n",
    "    \n",
    "    return X, X_bp, X_S"
   ]
  },
  {
   "cell_type": "code",
   "execution_count": null,
   "metadata": {
    "colab": {},
    "colab_type": "code",
    "id": "WClzql616FPP"
   },
   "outputs": [],
   "source": [
    "# fetch or compute bandpass-filtered LFP\n",
    "if 'X1' in list(f[session].keys()):\n",
    "    lfp_bp = f[session]['X1'][:]\n",
    "else:\n",
    "    lfp_bp = ss.filtfilt(b, a, f[session]['lfp'][:])"
   ]
  },
  {
   "cell_type": "code",
   "execution_count": null,
   "metadata": {
    "colab": {},
    "colab_type": "code",
    "id": "6xaE1Jvo6FPR"
   },
   "outputs": [],
   "source": [
    "# Container for spectrograms\n",
    "lfp_S = np.empty((lfp.size, S_freqs.size), dtype=complex)\n",
    "\n",
    "#apply wavelets\n",
    "for i, wavelet in enumerate(wavelets):\n",
    "    lfp_S[:, i] = ss.convolve(lfp.flatten(), wavelet, 'same')\n",
    "\n",
    "# compute envelope\n",
    "lfp_S = np.abs(lfp_S).astype(np.float32)**2"
   ]
  },
  {
   "cell_type": "markdown",
   "metadata": {
    "colab_type": "text",
    "id": "LikDN9ub6FPT"
   },
   "source": [
    "## Get samples around ripple locations"
   ]
  },
  {
   "cell_type": "code",
   "execution_count": null,
   "metadata": {
    "colab": {},
    "colab_type": "code",
    "id": "qJjYuOlQ6FPT"
   },
   "outputs": [],
   "source": [
    "# X: LFPs\n",
    "# X_bp: band-pass filtered LFPs\n",
    "# X_S: spectrograms\n",
    "X, X_bp, X_S = get_samples(lfp, lfp_bp, lfp_S, ripple_locations, lag=lag, Fs=Fs)"
   ]
  },
  {
   "cell_type": "code",
   "execution_count": null,
   "metadata": {
    "colab": {},
    "colab_type": "code",
    "id": "rRwjek3w6FPV"
   },
   "outputs": [],
   "source": [
    "# time vector relative to event\n",
    "lags = (np.arange(lag * 2 + 1) - lag) * 1000 / Fs"
   ]
  },
  {
   "cell_type": "code",
   "execution_count": null,
   "metadata": {
    "colab": {},
    "colab_type": "code",
    "id": "eNsMPgKr6FPX"
   },
   "outputs": [],
   "source": [
    "# min and max in colormap range (as exp(pc) lower 1% and upper 99% percentiles pc of log(X_S))\n",
    "vmin, vmax = np.exp(np.percentile(np.log(X_S.flatten()), [1, 99]))"
   ]
  },
  {
   "cell_type": "code",
   "execution_count": null,
   "metadata": {},
   "outputs": [],
   "source": [
    "# define log-linear colormap norm\n",
    "norm = colors.LogNorm(vmin=vmin, vmax=vmax)\n",
    "# or linear colormap norm\n",
    "# norm = colors.Normalize(vmin=vmin, vmax=vmax)"
   ]
  },
  {
   "cell_type": "markdown",
   "metadata": {
    "colab_type": "text",
    "id": "l9CPSRQv6FPZ"
   },
   "source": [
    "## plot samples, reject noise events etc."
   ]
  },
  {
   "cell_type": "markdown",
   "metadata": {
    "colab_type": "text",
    "id": "1EnOlug06FPZ"
   },
   "source": [
    "Define sorting order (either `chronological`, `probability`, `probability_reversed`, `random`, `None`)"
   ]
  },
  {
   "cell_type": "code",
   "execution_count": null,
   "metadata": {
    "colab": {},
    "colab_type": "code",
    "id": "KyrOGpPq6FPa"
   },
   "outputs": [],
   "source": [
    "sort_order = 'random'\n",
    "\n",
    "if sort_order is None or sort_order == 'chronological':\n",
    "    sorting = np.arange(X.shape[0])\n",
    "elif sort_order == 'random':\n",
    "    sorting = np.random.permutation(np.arange(X.shape[0]))\n",
    "elif sort_order == 'probability':\n",
    "    sorting = np.argsort(probability)[::-1]\n",
    "elif sort_order == 'probability_reversed':\n",
    "    sorting = np.argsort(probability)"
   ]
  },
  {
   "cell_type": "code",
   "execution_count": null,
   "metadata": {},
   "outputs": [],
   "source": [
    "def remove_axis_junk(ax, lines=['right', 'top', 'bottom']):\n",
    "    \"\"\"remove chosen lines from plotting axis\"\"\"\n",
    "    for loc, spine in ax.spines.items():\n",
    "        if loc in lines:\n",
    "            spine.set_color('none')\n",
    "    #ax.xaxis.set_ticks_position('bottom')\n",
    "    ax.xaxis.set_ticks_position('none')  \n",
    "    #ax.yaxis.set_ticks_position('left')"
   ]
  },
  {
   "cell_type": "markdown",
   "metadata": {},
   "source": [
    "### Define class for plot"
   ]
  },
  {
   "cell_type": "code",
   "execution_count": null,
   "metadata": {
    "colab": {},
    "colab_type": "code",
    "id": "7SDZOf1d6FPd"
   },
   "outputs": [],
   "source": [
    "class RippleNetPlot:\n",
    "    '''Main object for figure, axes and mouse-click events'''\n",
    "    def __init__(self, ncols=5, \n",
    "                 figsize=(9,5), \n",
    "                 cmap='inferno',\n",
    "                 norm=colors.LogNorm(vmin=vmin, vmax=vmax)):\n",
    "        '''\n",
    "        Parameters\n",
    "        ----------\n",
    "        ncols: int\n",
    "            number of columns per view\n",
    "        figsize: tuple floats\n",
    "            length 2 tuple (width, height) in inches.\n",
    "        cmap: str or mpl.colors.cmap\n",
    "            colormap (default: 'inferno')\n",
    "        norm: mpl.colors.Normalize instance\n",
    "            default: mpl.colors.LogNorm(vmin=1pc, vmax=99pc)\n",
    "        '''\n",
    "        # create figure and axes\n",
    "        nrows = 3\n",
    "        \n",
    "        (self.fig, self.axes) = plt.subplots(nrows, ncols, sharex=True, sharey='row', figsize=figsize)\n",
    "        self.fig.subplots_adjust(left=0.1, right=0.95, bottom=0.1, top=0.92, wspace=0.05)\n",
    "        \n",
    "        # annotate plots\n",
    "        self.axes[0, 0].set_ylabel('(mV)', labelpad=0)\n",
    "        self.axes[1, 0].set_ylabel('(mV)', labelpad=0)\n",
    "        self.axes[2, 0].set_ylabel('$f$ (Hz)', labelpad=0)\n",
    "        self.axes[2, 0].set_xticks([lags[0], 0, lags[-1]])\n",
    "        self.axes[2, 0].set_xticklabels([lags[0], 0])\n",
    "        self.axes[2, 0].set_xlabel(r'$\\tau$ (ms)', labelpad=0)\n",
    "        \n",
    "        self.axes[0, 0].set_ylim(-0.5, 0.5)\n",
    "        self.axes[1, 0].set_ylim(-0.1, 0.1)\n",
    "        \n",
    "        for ax in self.axes[:2, :].flatten():\n",
    "            remove_axis_junk(ax)\n",
    "\n",
    "        self.nrows = nrows\n",
    "        self.ncols = ncols\n",
    "\n",
    "        self.cmap = cmap\n",
    "        \n",
    "        self._event_axes = []\n",
    "\n",
    "        self.rejected = []\n",
    "\n",
    "        self.button_presses = 0\n",
    "\n",
    "        self.cid = self.fig.canvas.mpl_connect('button_press_event', self.on_click)\n",
    "\n",
    "\n",
    "    def on_click(self, event):\n",
    "        '''\n",
    "        Detects mouse click in axes\n",
    "        '''\n",
    "        if event.inaxes == axnext:\n",
    "            self._event_axes = []\n",
    "            return # ignore clicks on button\n",
    "\n",
    "        if event.inaxes in self.axes[2, :]: # ignore clicks on spectrograms\n",
    "            return\n",
    "        \n",
    "        (_, col) = np.where(self.axes == event.inaxes)\n",
    "        \n",
    "        if not event.inaxes in self._event_axes:\n",
    "            for ax in self.axes[:, col]:\n",
    "                self._event_axes.append(ax)\n",
    "\n",
    "            self.rejected.append(col[0] + self.button_presses * self.ncols)\n",
    "\n",
    "            event.inaxes.patch.set_facecolor('gray')\n",
    "        else:\n",
    "            for ax in self.axes[:, col]:\n",
    "                self._event_axes.remove(ax)\n",
    "\n",
    "            self.rejected.remove(col[0] + self.button_presses * self.ncols)\n",
    "\n",
    "            event.inaxes.patch.set_facecolor('white')\n",
    "\n",
    "        plt.gcf().canvas.draw()\n",
    "\n",
    "        return"
   ]
  },
  {
   "cell_type": "markdown",
   "metadata": {},
   "source": [
    "### Create interactive plot:\n",
    "Feel free to chance `ncols`, `figsize` and `cmap` (https://matplotlib.org/tutorials/colors/colormaps.html) below.  \n",
    "Don't click *both* LFP and band-pass LFP in a single column. Weird things may happen. "
   ]
  },
  {
   "cell_type": "code",
   "execution_count": null,
   "metadata": {
    "colab": {
     "base_uri": "https://localhost:8080/",
     "height": 17,
     "referenced_widgets": [
      "08f5c66f32964c7dba9d90c0dd40bb6c"
     ]
    },
    "colab_type": "code",
    "executionInfo": {
     "elapsed": 29491,
     "status": "ok",
     "timestamp": 1589371489865,
     "user": {
      "displayName": "Espen Hagen",
      "photoUrl": "",
      "userId": "16098989268258426650"
     },
     "user_tz": -120
    },
    "id": "erlgGZN86FPf",
    "outputId": "9f744601-4dfa-4e79-96d1-788a9f128539",
    "scrolled": false
   },
   "outputs": [],
   "source": [
    "plt.close('all')\n",
    "# create interactive plot\n",
    "plot = RippleNetPlot(ncols=2, \n",
    "                     figsize=(9,7), \n",
    "                     cmap='inferno', \n",
    "                     norm=norm)\n",
    "axes = plot.axes\n",
    "\n",
    "for j in range(plot.ncols):\n",
    "    try:\n",
    "        k = sorting[j]\n",
    "        plot.axes[0, j].plot(lags, X[k] - X[k].mean(), 'k', lw=0.5, clip_on=False)\n",
    "        plot.axes[0, j].set_title('sample {}/{}\\n(rippleLoc: {})'.format(\n",
    "            j, ripple_locations.size, ripple_locations[sorting][j]))\n",
    "        plot.axes[1, j].plot(lags, X_bp[k], 'k', lw=0.5, clip_on=False)\n",
    "        plot.axes[2, j].pcolormesh(lags, S_freqs, X_S[k].T,\n",
    "                                   norm=colors.LogNorm(vmin=vmin, vmax=vmax),\n",
    "                                   cmap=plot.cmap)\n",
    "    except IndexError:\n",
    "        plot.axes[0, j].axis('off')\n",
    "        plot.axes[1, j].axis('off')\n",
    "        plot.axes[2, j].axis('off')\n",
    "\n",
    "class ButtonPresses(object):\n",
    "    button_presses = 0\n",
    "\n",
    "    def next(self, event):\n",
    "        self.button_presses += 1\n",
    "\n",
    "        plot.button_presses = self.button_presses\n",
    "\n",
    "        for j in range(plot.ncols):\n",
    "            try:\n",
    "                k = sorting[self.button_presses * plot.ncols + j]\n",
    "                plot.axes[0, j].lines[0].set_ydata(X[k] - X[k].mean())\n",
    "                plot.axes[0, j].set_title('sample {}/{}\\n(rippleLoc: {})'.format(\n",
    "                    self.button_presses * plot.ncols + j,\n",
    "                    ripple_locations.size, \n",
    "                    ripple_locations[sorting][self.button_presses * plot.ncols + j]))\n",
    "                plot.axes[1, j].lines[0].set_ydata(X_bp[k])\n",
    "                plot.axes[0, j].axis(plot.axes[0, j].axis('tight'))\n",
    "                plot.axes[2, j].collections[0].set_array(X_S[k].T[:-1,:-1].ravel())\n",
    "            except IndexError:\n",
    "                plot.axes[0, j].lines.pop()\n",
    "                plot.axes[1, j].lines.pop()\n",
    "                plot.axes[2, j].collections.pop()\n",
    "                plot.axes[0, j].axis('off')\n",
    "                plot.axes[1, j].axis('off')\n",
    "                plot.axes[2, j].axis('off')\n",
    "\n",
    "        \n",
    "        for ax in plot.axes.flatten():\n",
    "            ax.patch.set_facecolor('white')\n",
    "        plt.gcf().canvas.draw()\n",
    "\n",
    "        return\n",
    "\n",
    "callback = ButtonPresses()\n",
    "axnext = plt.axes([0.8, 0.0, 0.1, 0.05])\n",
    "bnext = Button(axnext, 'Next')\n",
    "bnext.on_clicked(callback.next)\n",
    "plt.show()"
   ]
  },
  {
   "cell_type": "markdown",
   "metadata": {
    "colab_type": "text",
    "id": "5hQaPtOl6FPh"
   },
   "source": [
    "## Process output\n",
    "Dump label times and status to `.csv`"
   ]
  },
  {
   "cell_type": "code",
   "execution_count": null,
   "metadata": {
    "colab": {
     "base_uri": "https://localhost:8080/",
     "height": 164
    },
    "colab_type": "code",
    "executionInfo": {
     "elapsed": 29816,
     "status": "error",
     "timestamp": 1589371490198,
     "user": {
      "displayName": "Espen Hagen",
      "photoUrl": "",
      "userId": "16098989268258426650"
     },
     "user_tz": -120
    },
    "id": "wNFradPk6FPh",
    "outputId": "77d33103-2808-4a10-df1a-d74a3fde1f9b",
    "scrolled": true
   },
   "outputs": [],
   "source": [
    "raise Exception # ugly, break execution"
   ]
  },
  {
   "cell_type": "code",
   "execution_count": null,
   "metadata": {
    "colab": {},
    "colab_type": "code",
    "id": "8R4OGGpH6FPn"
   },
   "outputs": [],
   "source": [
    "# create array of rejected (noise) events\n",
    "rejected = np.array(plot.rejected, dtype=int) \n",
    "rejected = rejected[rejected < ripple_locations.size]\n",
    "\n",
    "# crate boolean label array for every ripple location (True - ripple event, False - noise event)\n",
    "ripple_labels = np.ones(ripple_locations.size, dtype=bool)\n",
    "ripple_labels[sorting[rejected]] = False\n",
    "\n",
    "# create dataframe for writing\n",
    "df = pd.DataFrame(data=dict(rippleLocs=ripple_locations[sorting], \n",
    "                            ripple=ripple_labels[sorting]))\n",
    "df"
   ]
  },
  {
   "cell_type": "code",
   "execution_count": null,
   "metadata": {},
   "outputs": [],
   "source": [
    "# count numbers of true and false ripples\n",
    "df.groupby('ripple').count()"
   ]
  },
  {
   "cell_type": "code",
   "execution_count": null,
   "metadata": {
    "colab": {},
    "colab_type": "code",
    "id": "8-ku7ack6FPp"
   },
   "outputs": [],
   "source": [
    "# save dataframe to .csv file\n",
    "fname = '{}_ripples_{}.csv'.format(session, datetime.now().strftime(\"%Y.%m.%d_%H:%M\"))\n",
    "with open(fname, 'w') as f:\n",
    "    df.to_csv(f, index=False)\n",
    "    print('data written to {}'.format(fname))"
   ]
  },
  {
   "cell_type": "code",
   "execution_count": null,
   "metadata": {},
   "outputs": [],
   "source": []
  }
 ],
 "metadata": {
  "colab": {
   "collapsed_sections": [],
   "name": "RippleNet_interactive_prototype.ipynb",
   "provenance": []
  },
  "kernelspec": {
   "display_name": "Python 3",
   "language": "python",
   "name": "python3"
  },
  "language_info": {
   "codemirror_mode": {
    "name": "ipython",
    "version": 3
   },
   "file_extension": ".py",
   "mimetype": "text/x-python",
   "name": "python",
   "nbconvert_exporter": "python",
   "pygments_lexer": "ipython3",
   "version": "3.6.10"
  },
  "widgets": {
   "application/vnd.jupyter.widget-state+json": {
    "08f5c66f32964c7dba9d90c0dd40bb6c": {
     "model_module": "jupyter-matplotlib",
     "model_name": "MPLCanvasModel",
     "state": {
      "_cursor": "pointer",
      "_dom_classes": [],
      "_figure_label": "Figure",
      "_height": 0,
      "_image_mode": "full",
      "_message": "",
      "_model_module": "jupyter-matplotlib",
      "_model_module_version": "^0.7.2",
      "_model_name": "MPLCanvasModel",
      "_rubberband_height": 0,
      "_rubberband_width": 0,
      "_rubberband_x": 0,
      "_rubberband_y": 0,
      "_view_count": null,
      "_view_module": "jupyter-matplotlib",
      "_view_module_version": "^0.7.2",
      "_view_name": "MPLCanvasView",
      "_width": 0,
      "footer_visible": true,
      "header_visible": true,
      "layout": "IPY_MODEL_f6030dee8e3649fb8fbb2795caaaf12f",
      "resizable": true,
      "toolbar": "IPY_MODEL_cb9043a0c1174726a0209e1b246f2071",
      "toolbar_position": "left",
      "toolbar_visible": true
     }
    }
   }
  }
 },
 "nbformat": 4,
 "nbformat_minor": 1
}
