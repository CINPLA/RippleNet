{
 "cells": [
  {
   "cell_type": "markdown",
   "metadata": {
    "colab_type": "text",
    "id": "SrTlOU5Y-tYy"
   },
   "source": [
    "# RippleNet_timeseries_prediction\n",
    "Plotting codes for manuscript figures 1A, 8-11 in E. Hagen, A.R. Chambers, G.T. Einevoll, K.H.Pettersen, R. Enger and A.J. Stasik (2020). \n",
    "\n",
    "Author: Espen Hagen (<https://github.com/espenhgn>)\n",
    "\n",
    "LICENSE: <https://github.com/CINPLA/RippleNet/blob/master/LICENSE>"
   ]
  },
  {
   "cell_type": "code",
   "execution_count": null,
   "metadata": {
    "colab": {
     "base_uri": "https://localhost:8080/",
     "height": 139
    },
    "colab_type": "code",
    "executionInfo": {
     "elapsed": 38961,
     "status": "ok",
     "timestamp": 1589370846873,
     "user": {
      "displayName": "Espen Hagen",
      "photoUrl": "",
      "userId": "16098989268258426650"
     },
     "user_tz": -120
    },
    "id": "PYdpuDO2-tY1",
    "outputId": "4ff76022-c29d-48df-8679-09ad3e0b982d"
   },
   "outputs": [],
   "source": [
    "# allow running on Google Colab, using data on Google Drive\n",
    "try:\n",
    "    from google.colab import drive\n",
    "    drive.mount('/content/gdrive')\n",
    "    %cd gdrive/My\\ Drive/Colab\\ Notebooks/RippleNet\n",
    "    %tensorflow_version 2.x\n",
    "except:\n",
    "    pass"
   ]
  },
  {
   "cell_type": "code",
   "execution_count": null,
   "metadata": {
    "colab": {},
    "colab_type": "code",
    "id": "BzTYvxk--tY5"
   },
   "outputs": [],
   "source": [
    "%matplotlib inline"
   ]
  },
  {
   "cell_type": "code",
   "execution_count": null,
   "metadata": {
    "colab": {
     "base_uri": "https://localhost:8080/",
     "height": 71
    },
    "colab_type": "code",
    "executionInfo": {
     "elapsed": 42630,
     "status": "ok",
     "timestamp": 1589370850555,
     "user": {
      "displayName": "Espen Hagen",
      "photoUrl": "",
      "userId": "16098989268258426650"
     },
     "user_tz": -120
    },
    "id": "GKiGpIjv-tY8",
    "outputId": "a5740bff-9a63-401c-8cf2-b8a9338db5a2"
   },
   "outputs": [],
   "source": [
    "import os\n",
    "import numpy as np\n",
    "import scipy.signal as ss\n",
    "import matplotlib.pyplot as plt\n",
    "from matplotlib.gridspec import GridSpec\n",
    "import tensorflow\n",
    "import tensorflow as tf\n",
    "from tensorflow import keras\n",
    "import h5py # TODO: use tensorflow.keras.utils.HDF5Matrix\n",
    "from matplotlib import colors\n",
    "import seaborn as sns\n",
    "import pandas as pd\n",
    "import pickle\n",
    "from ripplenet.common import *"
   ]
  },
  {
   "cell_type": "code",
   "execution_count": null,
   "metadata": {
    "colab": {},
    "colab_type": "code",
    "id": "9SAsrjfbrpPz"
   },
   "outputs": [],
   "source": [
    "plt.rcParams.update({'figure.max_open_warning': 100})\n",
    "plt.rcParams.update(rcParams)"
   ]
  },
  {
   "cell_type": "code",
   "execution_count": null,
   "metadata": {
    "colab": {
     "base_uri": "https://localhost:8080/",
     "height": 255
    },
    "colab_type": "code",
    "executionInfo": {
     "elapsed": 42626,
     "status": "ok",
     "timestamp": 1589370850558,
     "user": {
      "displayName": "Espen Hagen",
      "photoUrl": "",
      "userId": "16098989268258426650"
     },
     "user_tz": -120
    },
    "id": "ePH0RPz0-tZA",
    "outputId": "5e10817a-9a98-4aba-b40a-8cafaddea2d4"
   },
   "outputs": [],
   "source": [
    "from tensorflow.python.client import device_lib\n",
    "print(device_lib.list_local_devices())"
   ]
  },
  {
   "cell_type": "code",
   "execution_count": null,
   "metadata": {
    "colab": {
     "base_uri": "https://localhost:8080/",
     "height": 68
    },
    "colab_type": "code",
    "executionInfo": {
     "elapsed": 42624,
     "status": "ok",
     "timestamp": 1589370850559,
     "user": {
      "displayName": "Espen Hagen",
      "photoUrl": "",
      "userId": "16098989268258426650"
     },
     "user_tz": -120
    },
    "id": "E1qweUMK-tZD",
    "outputId": "b91002b4-2de6-4c2a-b735-39ba0359d711"
   },
   "outputs": [],
   "source": [
    "print(tf.__version__)\n",
    "print(tf.test.gpu_device_name())\n",
    "print(\"Num GPUs Available: \", len(tf.config.experimental.list_physical_devices('GPU')))"
   ]
  },
  {
   "cell_type": "code",
   "execution_count": null,
   "metadata": {
    "colab": {},
    "colab_type": "code",
    "id": "rF_gx1EG-tZG"
   },
   "outputs": [],
   "source": [
    "# fix seeds\n",
    "np.random.seed(1234)\n",
    "tf.random.set_seed(12345)"
   ]
  },
  {
   "cell_type": "code",
   "execution_count": null,
   "metadata": {
    "colab": {},
    "colab_type": "code",
    "id": "9GhLrmUD3Wwd"
   },
   "outputs": [],
   "source": [
    "# create folder for figure files\n",
    "if not os.path.isdir('figures'):\n",
    "    os.mkdir('figures')"
   ]
  },
  {
   "cell_type": "markdown",
   "metadata": {
    "colab_type": "text",
    "id": "-2HHcfpa-tZN"
   },
   "source": [
    "# Predictions on continuous timeseries"
   ]
  },
  {
   "cell_type": "markdown",
   "metadata": {
    "colab_type": "text",
    "id": "FtTYmepp-tZO"
   },
   "source": [
    "## load neural network from file"
   ]
  },
  {
   "cell_type": "code",
   "execution_count": null,
   "metadata": {
    "colab": {
     "base_uri": "https://localhost:8080/",
     "height": 34
    },
    "colab_type": "code",
    "executionInfo": {
     "elapsed": 43216,
     "status": "ok",
     "timestamp": 1589370851161,
     "user": {
      "displayName": "Espen Hagen",
      "photoUrl": "",
      "userId": "16098989268258426650"
     },
     "user_tz": -120
    },
    "id": "LcGBIyPxoNL4",
    "outputId": "6a715078-78b2-4e46-e245-4bec5f857ad2"
   },
   "outputs": [],
   "source": [
    "# load info on best model (path, threhsold settings)\n",
    "with open('best_model.pkl', 'rb') as f:\n",
    "    best_model = pickle.load(f)\n",
    "    print(best_model)"
   ]
  },
  {
   "cell_type": "code",
   "execution_count": null,
   "metadata": {
    "colab": {
     "base_uri": "https://localhost:8080/",
     "height": 731
    },
    "colab_type": "code",
    "executionInfo": {
     "elapsed": 47549,
     "status": "ok",
     "timestamp": 1589370855497,
     "user": {
      "displayName": "Espen Hagen",
      "photoUrl": "",
      "userId": "16098989268258426650"
     },
     "user_tz": -120
    },
    "id": "niW3mYAm-tZP",
    "outputId": "dec6d30b-6e60-4179-efa3-8f953626950b"
   },
   "outputs": [],
   "source": [
    "# load the 'best' performing model on the validation sets\n",
    "model = keras.models.load_model(best_model['model_file'])\n",
    "\n",
    "model.summary()"
   ]
  },
  {
   "cell_type": "code",
   "execution_count": null,
   "metadata": {
    "colab": {},
    "colab_type": "code",
    "id": "AfHB4J1e-tZr"
   },
   "outputs": [],
   "source": [
    "# Threshold for detecting event from prediction\n",
    "threshold = best_model['threshold']\n",
    "distance = best_model['distance']\n",
    "width = best_model['width']"
   ]
  },
  {
   "cell_type": "markdown",
   "metadata": {
    "colab_type": "text",
    "id": "N0ANZ6UM-tZS"
   },
   "source": [
    "## load a session time series"
   ]
  },
  {
   "cell_type": "code",
   "execution_count": null,
   "metadata": {
    "colab": {},
    "colab_type": "code",
    "id": "K2WDLAwA-tZT"
   },
   "outputs": [],
   "source": [
    "# some needed parameters\n",
    "Fs = 1250 # Hz, sampling freq\n",
    "\n",
    "# width of boxcar around each labeled event\n",
    "y_label_width = int(50 * Fs / 1000) # 50 ms @ Fs"
   ]
  },
  {
   "cell_type": "code",
   "execution_count": null,
   "metadata": {
    "colab": {},
    "colab_type": "code",
    "id": "r4AJEVw7-tZW"
   },
   "outputs": [],
   "source": [
    "# open file with complete time series\n",
    "session = 'm4029_session1'  # holdout dataset\n",
    "f = h5py.File(os.path.join('data', '{}.h5'.format(session)), 'r')"
   ]
  },
  {
   "cell_type": "code",
   "execution_count": null,
   "metadata": {
    "colab": {
     "base_uri": "https://localhost:8080/",
     "height": 34
    },
    "colab_type": "code",
    "executionInfo": {
     "elapsed": 48422,
     "status": "ok",
     "timestamp": 1589370856382,
     "user": {
      "displayName": "Espen Hagen",
      "photoUrl": "",
      "userId": "16098989268258426650"
     },
     "user_tz": -120
    },
    "id": "SSz-qk5h-tZZ",
    "outputId": "0f95983c-0d19-476c-c41c-fdab3e5409d7"
   },
   "outputs": [],
   "source": [
    "# list sessions:\n",
    "list(f.items())"
   ]
  },
  {
   "cell_type": "code",
   "execution_count": null,
   "metadata": {
    "colab": {
     "base_uri": "https://localhost:8080/",
     "height": 136
    },
    "colab_type": "code",
    "executionInfo": {
     "elapsed": 48421,
     "status": "ok",
     "timestamp": 1589370856383,
     "user": {
      "displayName": "Espen Hagen",
      "photoUrl": "",
      "userId": "16098989268258426650"
     },
     "user_tz": -120
    },
    "id": "_Ouvb4hQ-tZd",
    "outputId": "8af1c222-11f9-4786-8c6f-5bbeafba730f"
   },
   "outputs": [],
   "source": [
    "list(f[session].items())"
   ]
  },
  {
   "cell_type": "markdown",
   "metadata": {
    "colab_type": "text",
    "id": "SKy_kaMgpKn1"
   },
   "source": [
    "## Run prediction on entire dataset"
   ]
  },
  {
   "cell_type": "code",
   "execution_count": null,
   "metadata": {
    "colab": {},
    "colab_type": "code",
    "id": "zbWKRT8X-tZ1"
   },
   "outputs": [],
   "source": [
    "# load data (cont. LFP and ripple locations for plotting)\n",
    "X0_cont = np.expand_dims(np.expand_dims(f[session]['lfp'][:], 0), -1) # input must have shape (n_samples, n_timesteps, 1)\n",
    "rippleLocs = f[session]['rippleLocs'][:]\n",
    "S_freqs = f[session]['S_freqs'][:]"
   ]
  },
  {
   "cell_type": "code",
   "execution_count": null,
   "metadata": {
    "colab": {},
    "colab_type": "code",
    "id": "eFvrUPPWrpQg"
   },
   "outputs": [],
   "source": [
    "# imshow color limits\n",
    "vmin, vmax = np.exp(np.percentile(np.log(f[session]['S'][:Fs*30, :].flatten()), [1, 99]))"
   ]
  },
  {
   "cell_type": "code",
   "execution_count": null,
   "metadata": {
    "colab": {},
    "colab_type": "code",
    "id": "Ab_69IYn1O7Z"
   },
   "outputs": [],
   "source": [
    "# Switch or reshaping input into segments, or running on full time series\n",
    "if False:\n",
    "    # Predict using entire dataset at once (not recommended)\n",
    "    Y_cont_pred = model.predict(X0_cont)\n",
    "else:\n",
    "    # Reshape time axis to segments of some duration\n",
    "    segment_length = int(0.5 * Fs) # Fs\n",
    "    #segment_length = int(1 * Fs) # Fs\n",
    "\n",
    "    # run predictions n times with shifts of length segment_length / n,\n",
    "    # then final output will be averaged\n",
    "    n = 5 # nicely divisible with Fs=1250\n",
    "    shift = int(segment_length / n)\n",
    "    container = []\n",
    "    for i in range(n):\n",
    "        X0_cont_padded = np.concatenate((np.zeros((1, i * shift, 1)), X0_cont), axis=1)\n",
    "\n",
    "        # pad with zeros \n",
    "        X0_cont_padded = np.concatenate((X0_cont_padded, \n",
    "                                         np.zeros((1, segment_length - \n",
    "                                                   (X0_cont_padded.size % segment_length), 1))), \n",
    "                                        axis=1)\n",
    "        \n",
    "        # reshape into segments of length  \n",
    "        X0_cont_padded = X0_cont_padded.reshape((-1, segment_length, 1))\n",
    "\n",
    "        # run prediction on data\n",
    "        Y_cont_pred = model.predict(X0_cont_padded)\n",
    "\n",
    "        # Reshape to zero-padded size\n",
    "        Y_cont_pred = Y_cont_pred.reshape((1, -1, 1))[:, :X0_cont_padded.size, :]\n",
    "\n",
    "        # strip elements that were padded with zeros\n",
    "        container.append(Y_cont_pred[:, i * shift:i * shift + X0_cont.size, :])\n",
    "\n",
    "    # average or median\n",
    "    Y_cont_pred = np.median(container, axis=0)\n",
    "\n",
    "    # remove intermediate predictions\n",
    "    del container"
   ]
  },
  {
   "cell_type": "code",
   "execution_count": null,
   "metadata": {
    "colab": {},
    "colab_type": "code",
    "id": "exMhNI_J-tZ_"
   },
   "outputs": [],
   "source": [
    "# compare ground truth times vs. predicted times\n",
    "peaks, _ = ss.find_peaks(Y_cont_pred[0, :, 0], height=threshold, distance=distance, width=width)"
   ]
  },
  {
   "cell_type": "code",
   "execution_count": null,
   "metadata": {},
   "outputs": [],
   "source": [
    "# remove ripple locations in movement periods (within 0.5s of movement event)\n",
    "if 'run_speed' in list(f[session].keys()):\n",
    "    # smoothen run_speed by 1s boxcar filter:\n",
    "    run_speed = np.convolve(f[session]['run_speed'], ss.boxcar(Fs) / Fs, 'same')\n",
    "    # keep ripples where run_speed == 0:\n",
    "    peaks = peaks[run_speed[peaks] == 0]\n",
    "else:\n",
    "    run_speed = None"
   ]
  },
  {
   "cell_type": "code",
   "execution_count": null,
   "metadata": {
    "colab": {},
    "colab_type": "code",
    "id": "pnMcNqbXkv87"
   },
   "outputs": [],
   "source": [
    "TPs, FPs, FNs, stats = get_TPs_FPs_FNs_stats(f[session]['y'][:].flatten(), \n",
    "                                             Y_cont_pred.flatten(), \n",
    "                                             f[session]['rippleLocs'][:], \n",
    "                                             threshold, distance, width,\n",
    "                                             run_speed=run_speed,\n",
    "                                             y_label_width=y_label_width)"
   ]
  },
  {
   "cell_type": "code",
   "execution_count": null,
   "metadata": {
    "colab": {
     "base_uri": "https://localhost:8080/",
     "height": 80
    },
    "colab_type": "code",
    "executionInfo": {
     "elapsed": 73053,
     "status": "ok",
     "timestamp": 1589370881034,
     "user": {
      "displayName": "Espen Hagen",
      "photoUrl": "",
      "userId": "16098989268258426650"
     },
     "user_tz": -120
    },
    "id": "501kQLo2kv89",
    "outputId": "ca4a7951-f3c1-424c-f865-31d4bbab5102"
   },
   "outputs": [],
   "source": [
    "stats"
   ]
  },
  {
   "cell_type": "code",
   "execution_count": null,
   "metadata": {
    "colab": {
     "base_uri": "https://localhost:8080/",
     "height": 153
    },
    "colab_type": "code",
    "executionInfo": {
     "elapsed": 73052,
     "status": "ok",
     "timestamp": 1589370881035,
     "user": {
      "displayName": "Espen Hagen",
      "photoUrl": "",
      "userId": "16098989268258426650"
     },
     "user_tz": -120
    },
    "id": "inlhH52xkv9C",
    "outputId": "4b27dc29-bd01-4d3e-a555-bd7e87eab766"
   },
   "outputs": [],
   "source": [
    "print(stats.to_latex(index=False))"
   ]
  },
  {
   "cell_type": "code",
   "execution_count": null,
   "metadata": {
    "colab": {},
    "colab_type": "code",
    "id": "fLeYinRjkv9F"
   },
   "outputs": [],
   "source": [
    "# add label and color to each event\n",
    "labels = []\n",
    "for p in peaks:\n",
    "    if p in TPs:\n",
    "        labels.append([p, 'TP', 'C2'])\n",
    "    elif p in FPs:\n",
    "        labels.append([p, 'FP', 'C1'])\n",
    "    else:\n",
    "        raise NotImplementedError\n",
    "for p in FNs:\n",
    "    labels.append([p, 'FN', 'C3'])\n",
    "labels = pd.DataFrame(labels, columns=['i', 'label', 'color'])"
   ]
  },
  {
   "cell_type": "code",
   "execution_count": null,
   "metadata": {
    "colab": {
     "base_uri": "https://localhost:8080/",
     "height": 419
    },
    "colab_type": "code",
    "executionInfo": {
     "elapsed": 73048,
     "status": "ok",
     "timestamp": 1589370881037,
     "user": {
      "displayName": "Espen Hagen",
      "photoUrl": "",
      "userId": "16098989268258426650"
     },
     "user_tz": -120
    },
    "id": "h0VwQEMpkv9K",
    "outputId": "738bc9a5-1b92-4a75-8760-29aaa0f9cd84"
   },
   "outputs": [],
   "source": [
    "# preview labels\n",
    "labels"
   ]
  },
  {
   "cell_type": "markdown",
   "metadata": {
    "colab_type": "text",
    "id": "RNZjcrkh-taF"
   },
   "source": [
    "## Figure 5"
   ]
  },
  {
   "cell_type": "code",
   "execution_count": null,
   "metadata": {
    "colab": {},
    "colab_type": "code",
    "id": "qKCwyo3Bfcm2"
   },
   "outputs": [],
   "source": [
    "def plot_figure(X0, X1, S, y, y_pred, time, rippleLocs, inds, peaks, labels):\n",
    "    fig = plt.figure(figsize=(12, 6))\n",
    "    gs = GridSpec(11, 1, hspace=0.4, left=0.05, right=0.95, top=0.95, bottom=0.05)\n",
    "\n",
    "    ax0 = fig.add_subplot(gs[:2, 0])\n",
    "    ax0.plot(time, X0 - X0.mean(), 'k', lw=0.5,  \n",
    "            label=r'$X(t)$')\n",
    "\n",
    "    ax0.plot(rippleTimes / Fs, X0[rippleTimes-inds.min()] - X0.mean() + 0.4, \n",
    "            'C2d', ms=8, clip_on=False)    \n",
    "    ax0.set_title(r'$X(t)$')\n",
    "    ax0.set_ylabel('(mV)', labelpad=0)\n",
    "    ax0.axis(ax0.axis('tight'))\n",
    "    for spine in ['top', 'bottom', 'right']:\n",
    "        ax0.spines[spine].set_visible(False)\n",
    "    plt.setp(ax0.get_xticklabels(), visible=False)\n",
    "    ax0.xaxis.set_ticks_position('none')    \n",
    "    annotate_subplot(ax0, ncols=3, nrows=5, letter='A')\n",
    "\n",
    "    # band-pass filtered LFP\n",
    "    ax2 = fig.add_subplot(gs[2:4, 0], sharex=ax0)\n",
    "    ax2.plot(time, X1, 'k', lw=0.5, label=r'$\\phi_\\mathrm{BP}(t)$')\n",
    "    ax2.set_title(r'$\\phi_\\mathrm{BP}(t)$')\n",
    "    ax2.axis(ax2.axis('tight'))\n",
    "    ax2.set_ylabel('(mV)', labelpad=0)\n",
    "    for spine in ['top', 'bottom', 'right']:\n",
    "        ax2.spines[spine].set_visible(False)\n",
    "    plt.setp(ax2.get_xticklabels(), visible=False)\n",
    "    ax2.xaxis.set_ticks_position('none')    \n",
    "    annotate_subplot(ax2, ncols=3, nrows=5, letter='B')\n",
    "\n",
    "    # spectrograms\n",
    "    ax3 = fig.add_subplot(gs[4:6, 0], sharex=ax0)\n",
    "    im = ax3.pcolormesh(time, S_freqs, S.T, \n",
    "                        norm=colors.LogNorm(vmin=vmin, vmax=vmax),\n",
    "                        cmap='inferno',\n",
    "                        label='spectrogram',\n",
    "                        rasterized=True)\n",
    "    rect = np.array(ax3.get_position().bounds)\n",
    "    rect[0] += rect[2] + 0.01\n",
    "    rect[2] = 0.01\n",
    "    fig = plt.gcf()\n",
    "    cax = fig.add_axes(rect)\n",
    "    cbar = fig.colorbar(im, cax=cax, extend='both')\n",
    "    cbar.set_ticks(10.**np.arange(-5, 5))\n",
    "    cbar.set_label('(a.u.)', labelpad=0)\n",
    "    ax3.axis(ax3.axis('tight'))\n",
    "    ax3.set_title(r'$S(t, f)$')\n",
    "    ax3.set_ylabel('$f$ (Hz)', labelpad=0)\n",
    "    ax3.set_xlabel('$t$ (s)', labelpad=0)\n",
    "    annotate_subplot(ax3, ncols=3, nrows=5, letter='C')\n",
    "    \n",
    "    # label vector\n",
    "    ax1 = fig.add_subplot(gs[7:9, 0], sharex=ax0)    \n",
    "    ax1.plot(time, y, 'k', lw=0.5, clip_on=False)\n",
    "    ax1.set_ylabel(r'$y(t)$', labelpad=0)\n",
    "    ax1.axis(ax1.axis('tight'))\n",
    "    for spine in ['top', 'bottom', 'right']:\n",
    "        ax1.spines[spine].set_visible(False)\n",
    "    plt.setp(ax1.get_xticklabels(), visible=False)\n",
    "    ax1.xaxis.set_ticks_position('none')\n",
    "    annotate_subplot(ax1, ncols=3, nrows=5, letter='D')\n",
    "    ax1.set_yticks([0, 1])\n",
    "    ax1.set_ylim(0, 1)\n",
    "\n",
    "    # label vector prediction\n",
    "    ax4 = fig.add_subplot(gs[9:, 0], sharex=ax0, sharey=ax1)    \n",
    "    ax4.plot(time, y_pred, 'k', lw=0.5, clip_on=False, label='__nolabel__')\n",
    "    #ax4.plot(time[peaks__], y_pred[peaks__]+0.1, 'kd', ms=8, clip_on=False)\n",
    "    \n",
    "    \n",
    "    for lbl in np.unique(labels.label):\n",
    "    #for _, row in labels.iterrows():\n",
    "        ax4.plot(labels[labels.label==lbl].i.astype(int) / Fs, \n",
    "                 y_pred[labels[labels.label==lbl].i.astype(int)-inds.min()]+0.1, \n",
    "                 labels[labels.label==lbl].color.values[0] + 'd', \n",
    "                 ms=8, clip_on=False, \n",
    "                 label=lbl)\n",
    "\n",
    "    ax4.legend(frameon=False, bbox_to_anchor=(1.0, 1.0))\n",
    "\n",
    "    \n",
    "    ax4.plot([time[-1]-1, time[-1]-2], [-0.05, -0.05], 'k-', lw=1, clip_on=False)\n",
    "    ax4.text(time[-1]-1.5, -0.1, '1 s', va='top', ha='center')\n",
    "\n",
    "    \n",
    "    ax4.set_ylabel(r'$\\hat{y}(t)$', labelpad=0)\n",
    "    ax4.axis(ax1.axis('tight'))\n",
    "    ax4.set_ylim(0, 1)\n",
    "    ax4.set_yticks([0, 1])\n",
    "    for spine in ['top', 'bottom', 'right']:\n",
    "        ax4.spines[spine].set_visible(False)\n",
    "    plt.setp(ax4.get_xticklabels(), visible=False)\n",
    "    ax4.xaxis.set_ticks_position('none')    \n",
    "    ax4.set_xlim(time[0], time[-1])\n",
    "    annotate_subplot(ax4, ncols=3, nrows=5, letter='E')\n",
    "\n",
    "    return fig"
   ]
  },
  {
   "cell_type": "code",
   "execution_count": null,
   "metadata": {
    "colab": {},
    "colab_type": "code",
    "id": "YYpgqgmc-taG"
   },
   "outputs": [],
   "source": [
    "windowsize = Fs * 10"
   ]
  },
  {
   "cell_type": "code",
   "execution_count": null,
   "metadata": {
    "colab": {
     "base_uri": "https://localhost:8080/",
     "height": 1000,
     "output_embedded_package_id": "1ybESeJP85lNadvoTAwhMisFh9gCjbVfB"
    },
    "colab_type": "code",
    "executionInfo": {
     "elapsed": 229949,
     "status": "ok",
     "timestamp": 1589371037959,
     "user": {
      "displayName": "Espen Hagen",
      "photoUrl": "",
      "userId": "16098989268258426650"
     },
     "user_tz": -120
    },
    "id": "oLPYhTgW-taN",
    "outputId": "b611c537-0f59-4c75-baa6-b039613c03aa",
    "scrolled": true
   },
   "outputs": [],
   "source": [
    "for i in range(Y_cont_pred.size // windowsize):\n",
    "    inds = np.arange(i*windowsize, windowsize*(i+1))\n",
    "    time = inds / Fs\n",
    "\n",
    "    X0 = f[session]['lfp'][:][inds]\n",
    "    X1 = f[session]['X1'][:][inds]\n",
    "    S = f[session]['S'][:][inds, ]\n",
    "    y = f[session]['y'][:][inds]\n",
    "\n",
    "    y_pred = Y_cont_pred.flatten()[inds]\n",
    "\n",
    "    peaks__, _ = ss.find_peaks(y_pred, height=threshold, distance=distance, width=width)\n",
    "\n",
    "    # keep ripples where run_speed == 0:\n",
    "    peaks__ = peaks__[run_speed[inds][peaks__] == 0]\n",
    "    \n",
    "    rippleInds = (rippleLocs >= inds.min()) & (rippleLocs < inds.max())\n",
    "    rippleTimes = rippleLocs[rippleInds]\n",
    "    \n",
    "    # skip plot if no events of any kinds are found in segment\n",
    "    if (rippleTimes.size + peaks__.size) == 0:\n",
    "        continue\n",
    "\n",
    "    labels_ = labels[(labels.i >= inds.min()) & (labels.i < inds.max())] \n",
    "\n",
    "    fig = plot_figure(X0, X1, S, y, y_pred, time, rippleLocs, inds, peaks, labels_)\n",
    "    \n",
    "    # save figure\n",
    "    fig.savefig(os.path.join('figures', 'figure09_{}s_{}s.pdf'.format(int(round(time[0])), \n",
    "                                                                      int(round(time[-1])))), \n",
    "                dpi=300, bbox_inches='tight', pad_inches=0.05)\n",
    "    fig.savefig(os.path.join('figures', 'figure09_{}s_{}s.eps'.format(int(round(time[0])), \n",
    "                                                                      int(round(time[-1])))), \n",
    "                dpi=300, bbox_inches='tight', pad_inches=0.05)\n",
    "    #plt.close(fig)"
   ]
  },
  {
   "cell_type": "markdown",
   "metadata": {
    "colab_type": "text",
    "id": "rUogn_FI-tag"
   },
   "source": [
    "## Figure 9"
   ]
  },
  {
   "cell_type": "code",
   "execution_count": null,
   "metadata": {
    "colab": {},
    "colab_type": "code",
    "id": "WsRaHZBT-taj"
   },
   "outputs": [],
   "source": [
    "# compare cumulative counts of events for session\n",
    "onehot_pred = np.zeros(Y_cont_pred.size)\n",
    "onehot_pred[peaks] = 1\n",
    "onehot = np.zeros(Y_cont_pred.size)\n",
    "onehot[rippleLocs] = 1"
   ]
  },
  {
   "cell_type": "code",
   "execution_count": null,
   "metadata": {
    "colab": {},
    "colab_type": "code",
    "id": "cnClY6BAE18g"
   },
   "outputs": [],
   "source": [
    "# correlation function between rippleLocs and peaks\n",
    "bin_size = 2.5 # 2 ms at Fs=1250 Hz\n",
    "n_lags = 50 # \n",
    "\n",
    "bin_count = X0_cont.size // bin_size\n",
    "if (X0_cont.size % bin_size) > 0:\n",
    "    bin_count += 1\n",
    "bins = np.arange(bin_count) * bin_size + bin_size / 2\n",
    "\n",
    "labels_binned, _ = np.histogram(rippleLocs, bins=bins)\n",
    "preds_binned, _ = np.histogram(peaks, bins=bins)\n",
    "\n",
    "Cxy = np.correlate(labels_binned-labels_binned.mean(), \n",
    "                    preds_binned-preds_binned.mean(), 'same')[::-1] / \\\n",
    "                        (labels_binned.std() * preds_binned.std() * preds_binned.size) \n",
    "\n",
    "lags = (bins - Cxy.size // 2 * bin_size) / Fs * 1000\n",
    "lag_inds = np.arange(n_lags) + lags.size // 2 - n_lags // 2 - 1"
   ]
  },
  {
   "cell_type": "code",
   "execution_count": null,
   "metadata": {
    "colab": {},
    "colab_type": "code",
    "id": "yCvfSuEyw9Rp"
   },
   "outputs": [],
   "source": [
    "def get_samples(f, session, inds, lag):\n",
    "\n",
    "    # create arrays of training and validation samples combining data from all sessions\n",
    "    X0 = [] # container for raw data segments\n",
    "    X1 = [] # container for gamma-band data segments\n",
    "    S = []  # container for specgram\n",
    "    Y = []  # container for labels\n",
    "    labels = [] # data labels (session, rippleLoc, offset)\n",
    "\n",
    "    sample_size = lag * 2 + 1\n",
    "\n",
    "    for ind in inds:\n",
    "        # center segments on event\n",
    "        offset = -sample_size // 2        \n",
    "        \n",
    "        # extract\n",
    "        idx = np.arange(sample_size) + ind + offset\n",
    "        if idx.min() < 0:\n",
    "            idx -= idx.min()\n",
    "        elif idx.max() >= f[session]['lfp'].size:\n",
    "            idx = idx - (idx.max() - f[session]['lfp'].size + 1) \n",
    "        X0.append(f[session]['lfp'][:][idx])\n",
    "        X1.append(f[session]['X1'][:][idx])\n",
    "        S.append(f[session]['S'][:][idx, ])\n",
    "        labels.append((session, ind, offset))\n",
    "\n",
    "    # convert to numpy arrays, downcast to single precision\n",
    "    X0 = np.array(X0).astype(np.float32)\n",
    "    X1 = np.array(X1).astype(np.float32)\n",
    "    S = np.array(S).astype(np.float32)\n",
    "    labels = np.array(labels, dtype=[('session', 'S16'), ('rippleLocs', np.int32), ('offset', np.int32)])\n",
    "\n",
    "    return X0, X1, S, labels"
   ]
  },
  {
   "cell_type": "code",
   "execution_count": null,
   "metadata": {
    "colab": {
     "base_uri": "https://localhost:8080/",
     "height": 345
    },
    "colab_type": "code",
    "executionInfo": {
     "elapsed": 278453,
     "status": "ok",
     "timestamp": 1589371086481,
     "user": {
      "displayName": "Espen Hagen",
      "photoUrl": "",
      "userId": "16098989268258426650"
     },
     "user_tz": -120
    },
    "id": "vRW2A4YB-tam",
    "outputId": "cc1d7d3b-8092-4d69-d581-ef4e4a1e467a"
   },
   "outputs": [],
   "source": [
    "fig = plt.figure(figsize=(12, 4))\n",
    "gs = GridSpec(2,3, left=0.05, right=0.95, bottom=0.05, top=0.95, wspace=0.3, hspace=0.3)\n",
    "\n",
    "# cumulative counts\n",
    "ax = fig.add_subplot(gs[0, 0])\n",
    "ax.plot(onehot.cumsum(), onehot_pred.cumsum())\n",
    "ax.set_xlabel('# labeled SPW-R', labelpad=0)\n",
    "ax.set_ylabel('# pred. SPW-R', labelpad=0)\n",
    "annotate_subplot(ax, ncols=10, nrows=2, letter='A')\n",
    "\n",
    "# correlation function\n",
    "ax = fig.add_subplot(gs[1, 0])\n",
    "#ax.step(lags[lag_inds], Cxy[lag_inds], where='mid')\n",
    "ax.fill_between(lags[lag_inds], Cxy[lag_inds], step='pre')\n",
    "ax.set_xlabel(r'$\\tau$ (ms)', labelpad=0)\n",
    "ax.set_ylabel(r'$\\rho_{y\\hat{y}}(\\tau)$', labelpad=0)\n",
    "annotate_subplot(ax, ncols=10, nrows=2, letter='B')\n",
    "\n",
    "# energy vs (1-y)\n",
    "ax0 = fig.add_subplot(gs[0, 1])\n",
    "ax1 = fig.add_subplot(gs[1, 1], sharex=ax0, sharey=ax0)\n",
    "\n",
    "lag = int(100 * Fs / 1000) # 100 ms @ Fs\n",
    "y_max_labeled = Y_cont_pred[0, rippleLocs + np.expand_dims(np.arange(-31, 32), -1), 0].max(axis=0)\n",
    "y_max_pred = Y_cont_pred[0, peaks, 0]\n",
    "E_s = []\n",
    "for j, (inds, confidence, marker, label, ax) in enumerate(zip([rippleLocs, peaks], \n",
    "                                                          [y_max_labeled, y_max_pred], \n",
    "                                                          ['.', '.'],\n",
    "                                                          [r'$y$', r'$\\hat{y}$'],\n",
    "                                                          [ax0, ax1] \n",
    "                                                         )):\n",
    "    _, X1_, _, _ = get_samples(f, session, inds, lag)\n",
    "    # energy measure\n",
    "    E_s.append(np.sum(X1_**2, axis=1))\n",
    "    sns.kdeplot(np.log10(1-confidence), np.log10(E_s[-1]), ax=ax, cbar=False, shade=False)\n",
    "    ax.plot(np.log10(1-confidence), np.log10(E_s[-1]), marker, ms=8, alpha=1, label=label)\n",
    "    ax.set_ylabel(r'$\\log_{10}(E_s^{\\langle j \\rangle})$', labelpad=0)\n",
    "xvals = np.log10(1-np.r_[y_max_labeled, y_max_pred])\n",
    "yvals = np.log10(np.r_[E_s[0], E_s[1]])\n",
    "ax1.set_xlim(xvals.min(), xvals.max())\n",
    "ax1.set_ylim(yvals.min(), yvals.max())\n",
    "ax1.set_xlabel(r'$\\log_{10}(1-\\hat{y}^{\\langle j \\rangle})$', labelpad=0)\n",
    "annotate_subplot(ax0, ncols=8, nrows=2, letter='C')\n",
    "\n",
    "\n",
    "# averaged SPW-R spectrograms\n",
    "time = np.arange(-lag, lag+1) / Fs * 1000\n",
    "for j, inds in enumerate([rippleLocs, peaks]): \n",
    "    X0_, X1_, S_, labels_ = get_samples(f, session, inds, lag)\n",
    "\n",
    "    ax = fig.add_subplot(gs[j, 2])\n",
    "\n",
    "    #vmin, vmax = np.exp(np.percentile(np.log(S_cont.flatten()), [1, 99]))\n",
    "    im = ax.pcolormesh(time, S_freqs, S_.mean(axis=0).T, \n",
    "                       norm=colors.LogNorm(vmin=vmin, vmax=vmax),\n",
    "                       cmap='inferno',\n",
    "                       label='spectrogram',\n",
    "                       rasterized=True)\n",
    "    #if j == 1:\n",
    "    rect = np.array(ax.get_position().bounds)\n",
    "    rect[0] += rect[2] + 0.01\n",
    "    rect[2] = 0.01\n",
    "    fig = plt.gcf()\n",
    "    cax = fig.add_axes(rect)\n",
    "    \n",
    "    cbar = fig.colorbar(im, cax=cax, extend='both')\n",
    "    cbar.set_ticks(10.**np.arange(-5, 5))\n",
    "    cbar.set_label('(a.u.)', labelpad=0)\n",
    "    ax.axis(ax.axis('tight'))\n",
    "    ax.set_ylabel('$f$ (Hz)', labelpad=0)\n",
    "    if j == 1:\n",
    "        ax.set_xlabel(r'$\\tau$ (ms)', labelpad=0)\n",
    "    if j == 0:\n",
    "        annotate_subplot(ax, ncols=8, nrows=2, letter='D')\n",
    "\n",
    "# save figure\n",
    "fig.savefig(os.path.join('figures', 'figure10.pdf'), dpi=300, bbox_inches='tight', pad_inches=0.05)\n",
    "fig.savefig(os.path.join('figures', 'figure10.eps'), dpi=300, bbox_inches='tight', pad_inches=0.05)"
   ]
  },
  {
   "cell_type": "markdown",
   "metadata": {
    "colab_type": "text",
    "id": "L4r9k7yp9MTS"
   },
   "source": [
    "## Compare SPW-R predictions to labeled events\n",
    "input, filtered LFPs, spectrograms"
   ]
  },
  {
   "cell_type": "code",
   "execution_count": null,
   "metadata": {
    "colab": {},
    "colab_type": "code",
    "id": "z1RFgDITsizm"
   },
   "outputs": [],
   "source": [
    "n_samples = 8\n",
    "lag = int(100 * Fs / 1000) # 100 ms @ Fs\n",
    "time = np.arange(-lag, lag+1) / Fs * 1000"
   ]
  },
  {
   "cell_type": "code",
   "execution_count": null,
   "metadata": {
    "colab": {
     "base_uri": "https://localhost:8080/",
     "height": 815
    },
    "colab_type": "code",
    "executionInfo": {
     "elapsed": 300259,
     "status": "ok",
     "timestamp": 1589371108293,
     "user": {
      "displayName": "Espen Hagen",
      "photoUrl": "",
      "userId": "16098989268258426650"
     },
     "user_tz": -120
    },
    "id": "k-4bktAQsi3m",
    "outputId": "68b2aabd-e764-43ab-af5b-2d3f3a5aec5e",
    "scrolled": false
   },
   "outputs": [],
   "source": [
    "# plot labeled ripple events with scores by the RippleNet \n",
    "n_plots = rippleLocs.size // 10\n",
    "if rippleLocs.size % 10 > 0:\n",
    "    n_plots += 1\n",
    "\n",
    "# get scoring at times of labeled rippleLocs\n",
    "confidence = Y_cont_pred[0, rippleLocs + np.expand_dims(np.arange(-31, 32), -1), 0].max(axis=0) \n",
    "sort = np.argsort(confidence)[::-1]\n",
    "\n",
    "#for k in range(n_plots):\n",
    "#    inds_labeled = rippleLocs[sort][k*n_samples:(k+1)*n_samples]\n",
    "#    conf_labeled = confidence[sort][k*n_samples:(k+1)*n_samples]\n",
    "#    j_super = np.arange(rippleLocs.size)[sort][k*n_samples:(k+1)*n_samples]\n",
    "\n",
    "# plot only the n_samples best and worst examples\n",
    "for k, inds in enumerate([np.arange(rippleLocs.size)[:n_samples], \n",
    "                          np.arange(rippleLocs.size)[-n_samples:]]):\n",
    "    inds_labeled = rippleLocs[sort][inds]\n",
    "    conf_labeled = confidence[sort][inds]\n",
    "    j_super = np.arange(rippleLocs.size)[sort][inds]\n",
    "\n",
    "    for j, (inds, dataset) in enumerate(zip([inds_labeled], ['labeled'])): \n",
    "        fig, axes = plt.subplots(3, n_samples, figsize=(12, 6), sharex=True, sharey='row')\n",
    "        X0_, X1_, S_, labels_ = get_samples(f, session, inds, lag)\n",
    "\n",
    "        for i in range(n_samples):\n",
    "            # raw LFP with ripple label\n",
    "            ax0 = axes[0, i]\n",
    "            try:\n",
    "                ax0.plot(time, X0_[i, ] - X0_[i, ].mean(), 'k', lw=0.5,  \n",
    "                        label=r'$X^{\\langle' + '{}'.format(i+1) + r'\\rangle}(t)$')\n",
    "            except IndexError:\n",
    "                for ax in axes[:, i]:\n",
    "                    ax.axis('off')\n",
    "                continue\n",
    "\n",
    "            if i == 0:\n",
    "                ax0.set_ylabel('(mV)', labelpad=0)\n",
    "            ax0.axis(ax0.axis('tight'))\n",
    "            for spine in ['top', 'right']:\n",
    "                ax0.spines[spine].set_visible(False)\n",
    "            ax0.set_title(r'$\\hat{y}^{\\langle ' + str(np.where(rippleLocs==inds[i])[0][0]) + \n",
    "                          r' \\rangle}=' + '{:.2f}'.format(conf_labeled[i].max()) + r'$')\n",
    "\n",
    "\n",
    "            # band-pass filtered LFP\n",
    "            ax2 = axes[1, i]\n",
    "            ax2.plot(time, X1_[i, ], 'k', lw=0.5, label=r'$\\phi_\\mathrm{BP}(t)$')\n",
    "            ax2.axis(ax2.axis('tight'))\n",
    "            if i == 0:\n",
    "                ax2.set_ylabel('(mV)', labelpad=0)\n",
    "            for spine in ['top', 'right']:\n",
    "                ax2.spines[spine].set_visible(False)\n",
    "            \n",
    "            ax3 = axes[2, i]\n",
    "            im = ax3.pcolormesh(time, S_freqs, S_[i, ].T, \n",
    "                                norm=colors.LogNorm(vmin=vmin, vmax=vmax),\n",
    "                                cmap='inferno',\n",
    "                                label='spectrogram',\n",
    "                                rasterized=True)\n",
    "            if i == n_samples-1:\n",
    "                rect = np.array(ax3.get_position().bounds)\n",
    "                rect[0] += rect[2] + 0.01\n",
    "                rect[2] = 0.01\n",
    "                fig = plt.gcf()\n",
    "                cax = fig.add_axes(rect)\n",
    "\n",
    "                cbar = fig.colorbar(im, cax=cax, extend='both')\n",
    "                cbar.set_ticks(10.**np.arange(-5, 5))\n",
    "                cbar.set_label('(a.u.)', labelpad=0)\n",
    "            ax3.axis(ax3.axis('tight'))\n",
    "            ax3.set_xticklabels([-100, 0])\n",
    "            if i == 0:\n",
    "                ax3.set_ylabel('$f$ (Hz)', labelpad=0)\n",
    "            ax3.set_xlabel(r'$\\tau$ (ms)', labelpad=0)\n",
    "\n",
    "    # save figure\n",
    "    fig.savefig(os.path.join('figures', 'figure11_{}.pdf'.format(k)), \n",
    "                dpi=300, bbox_inches='tight', pad_inches=0.05)\n",
    "    fig.savefig(os.path.join('figures', 'figure11_{}.eps'.format(k)), \n",
    "                dpi=300, bbox_inches='tight', pad_inches=0.05)"
   ]
  },
  {
   "cell_type": "code",
   "execution_count": null,
   "metadata": {
    "colab": {
     "base_uri": "https://localhost:8080/",
     "height": 815
    },
    "colab_type": "code",
    "executionInfo": {
     "elapsed": 321409,
     "status": "ok",
     "timestamp": 1589371129445,
     "user": {
      "displayName": "Espen Hagen",
      "photoUrl": "",
      "userId": "16098989268258426650"
     },
     "user_tz": -120
    },
    "id": "lXKHfc0G9w6M",
    "outputId": "2831bbe8-562f-4608-bb68-52f160399004",
    "scrolled": false
   },
   "outputs": [],
   "source": [
    "# Draw input and spectrograms for predictions, sort accd. to confidence (highest first).  \n",
    "n_plots = peaks.size // 10\n",
    "if peaks.size % 10 > 0:\n",
    "    n_plots += 1\n",
    "\n",
    "confidence = Y_cont_pred[0, peaks, 0]\n",
    "sort = np.argsort(confidence)[::-1]\n",
    "\n",
    "#for k in range(n_plots):\n",
    "#    inds_pred = peaks[sort][k*n_samples:(k+1)*n_samples]\n",
    "#    conf_pred = confidence[sort][k*n_samples:(k+1)*n_samples]\n",
    "#    label_labeled = labels.loc[sort][k*n_samples:(k+1)*n_samples]\n",
    "#    j_super = np.arange(peaks.size)[sort][k*n_samples:(k+1)*n_samples]\n",
    "\n",
    "# plot only the n_samples best and worst examples\n",
    "for k, inds in enumerate([np.arange(peaks.size)[:n_samples], \n",
    "                          np.arange(peaks.size)[-n_samples:]]):\n",
    "    inds_pred = peaks[sort][inds]\n",
    "    conf_pred = confidence[sort][inds]\n",
    "    label_labeled = labels.loc[sort].reset_index().loc[inds] #labels.loc[sort][inds]\n",
    "    j_super = np.arange(peaks.size)[sort][inds]\n",
    "\n",
    "    for j, (inds, dataset) in enumerate(zip([inds_pred], ['predicted'])): \n",
    "        fig, axes = plt.subplots(3, n_samples, figsize=(12, 6), sharex=True, sharey='row')\n",
    "        X0_, X1_, S_, labels_ = get_samples(f, session, inds, lag)\n",
    "\n",
    "        for i in range(n_samples):\n",
    "            # raw LFP with ripple label\n",
    "            ax0 = axes[0, i]\n",
    "            try:\n",
    "                ax0.plot(time, X0_[i, ] - X0_[i, ].mean(), 'k', lw=0.5,  \n",
    "                        label=r'$X^{\\langle' + '{}'.format(i+1) + r'\\rangle}(t)$')\n",
    "            except IndexError:\n",
    "                for ax in axes[:, i]:\n",
    "                    ax.axis('off')\n",
    "                continue\n",
    "                \n",
    "            if i == 0:\n",
    "                ax0.set_ylabel('(mV)', labelpad=0)\n",
    "            ax0.axis(ax0.axis('tight'))\n",
    "            for spine in ['top', 'right']:\n",
    "                ax0.spines[spine].set_visible(False)\n",
    "            ax0.set_title(r'$\\hat{y}^{\\langle ' + str(j_super[i]) + \n",
    "                          r' \\rangle}=' + '{:.2f}'.format(conf_pred[i]) + r'$')\n",
    "\n",
    "            # band-pass filtered LFP\n",
    "            ax2 = axes[1, i]\n",
    "            ax2.plot(time, X1_[i, ], 'k', lw=0.5, label=r'$\\phi_\\mathrm{BP}(t)$')\n",
    "            ax2.axis(ax2.axis('tight'))\n",
    "            if i == 0:\n",
    "                ax2.set_ylabel('(mV)', labelpad=0)\n",
    "            for spine in ['top', 'right']:\n",
    "                ax2.spines[spine].set_visible(False)\n",
    "            \n",
    "            ax2.set_title(label_labeled.label.values[i], \n",
    "                          color=label_labeled.color.values[i])\n",
    "\n",
    "            \n",
    "            ax3 = axes[2, i]\n",
    "            im = ax3.pcolormesh(time, S_freqs, S_[i, ].T, \n",
    "                                norm=colors.LogNorm(vmin=vmin, vmax=vmax),\n",
    "                                cmap='inferno',\n",
    "                                label='spectrogram',\n",
    "                                rasterized=True)\n",
    "            if i == n_samples-1:\n",
    "                rect = np.array(ax3.get_position().bounds)\n",
    "                rect[0] += rect[2] + 0.01\n",
    "                rect[2] = 0.01\n",
    "                fig = plt.gcf()\n",
    "                cax = fig.add_axes(rect)\n",
    "                \n",
    "                cbar = fig.colorbar(im, cax=cax, extend='both')\n",
    "                cbar.set_ticks(10.**np.arange(-5, 5))\n",
    "                cbar.set_label('(a.u.)', labelpad=0)\n",
    "            ax3.axis(ax3.axis('tight'))\n",
    "            ax3.set_xticklabels([-100, 0])\n",
    "            if i == 0:\n",
    "                ax3.set_ylabel('$f$ (Hz)', labelpad=0)\n",
    "            ax3.set_xlabel(r'$\\tau$ (ms)', labelpad=0)\n",
    "\n",
    "        # save figure\n",
    "        fig.savefig(os.path.join('figures', 'figure12_{}.pdf'.format(k)), \n",
    "                    dpi=300, bbox_inches='tight', pad_inches=0.05)\n",
    "        fig.savefig(os.path.join('figures', 'figure12_{}.eps'.format(k)), \n",
    "                    dpi=300, bbox_inches='tight', pad_inches=0.05)"
   ]
  },
  {
   "cell_type": "markdown",
   "metadata": {
    "colab": {},
    "colab_type": "code",
    "id": "GZ41l9Ockv-D"
   },
   "source": [
    "# panel A for figure 1 "
   ]
  },
  {
   "cell_type": "code",
   "execution_count": null,
   "metadata": {
    "colab": {
     "base_uri": "https://localhost:8080/",
     "height": 305
    },
    "colab_type": "code",
    "executionInfo": {
     "elapsed": 321405,
     "status": "ok",
     "timestamp": 1589371129447,
     "user": {
      "displayName": "Espen Hagen",
      "photoUrl": "",
      "userId": "16098989268258426650"
     },
     "user_tz": -120
    },
    "id": "I5ElcXcauoXJ",
    "outputId": "9980aa1e-62f8-48fd-a305-7c28eaec1af3"
   },
   "outputs": [],
   "source": [
    "confidence = Y_cont_pred[0, peaks, 0]\n",
    "sort = np.argsort(confidence)[::-1]\n",
    "\n",
    "k = 0\n",
    "inds = np.array([0])\n",
    "\n",
    "inds_pred = peaks[sort][inds]\n",
    "conf_pred = confidence[sort][inds]\n",
    "label_labeled = labels.loc[sort].reset_index().loc[inds] #labels.loc[sort][inds]\n",
    "j_super = np.arange(peaks.size)[sort][inds]\n",
    "\n",
    "\n",
    "inds = inds_pred\n",
    "\n",
    "fig = plt.figure(figsize=(2,4))\n",
    "gs = GridSpec(3, 1, hspace=0.3)\n",
    "\n",
    "X0_, X1_, S_, labels_ = get_samples(f, session, inds, lag)\n",
    "\n",
    "i = 0\n",
    "\n",
    "# raw LFP with ripple label\n",
    "ax0 = fig.add_subplot(gs[0, 0])\n",
    "ax0.plot(time, X0_[i, ] - X0_[i, ].mean(), 'k', lw=0.5,  \n",
    "        label=r'$X^{\\langle' + '{}'.format(i+1) + r'\\rangle}(t)$')\n",
    "ax0.set_ylabel('(mV)', labelpad=0)\n",
    "ax0.axis(ax0.axis('tight'))\n",
    "for spine in ['top', 'right', 'bottom']:\n",
    "    ax0.spines[spine].set_visible(False)\n",
    "ax0.set_xticks([])\n",
    "ax0.set_xticklabels([])\n",
    "ax0.set_title('LFP/SPW-R')\n",
    "annotate_subplot(ax0, ncols=10, nrows=8, letter='A')\n",
    "\n",
    "# band-pass filtered LFP\n",
    "ax2 = fig.add_subplot(gs[1, 0])\n",
    "ax2.plot(time, X1_[i, ], 'k', lw=0.5, label=r'$\\phi_\\mathrm{BP}(t)$')\n",
    "ax2.axis(ax2.axis('tight'))\n",
    "ax2.set_ylabel('(mV)', labelpad=0)\n",
    "for spine in ['top', 'right', 'bottom']:\n",
    "    ax2.spines[spine].set_visible(False)\n",
    "ax2.set_xticks([])\n",
    "ax2.set_xticklabels([])\n",
    "ax2.set_title(r'$150-250$ Hz SPW-R')\n",
    "\n",
    "\n",
    "# spectrogram\n",
    "#ax3 = axes[2]\n",
    "ax3 = fig.add_subplot(gs[2:, 0])\n",
    "vmin, vmax_ = np.exp(np.percentile(np.log(f[session]['S'][:Fs*30, :].flatten()), [1, 99.9]))\n",
    "#levels = np.linspace(vmin, vmax_, 20)\n",
    "im = ax3.pcolormesh(time, S_freqs, S_[i, ].T, \n",
    "                    norm=colors.LogNorm(vmin=vmin, vmax=vmax_),\n",
    "                    cmap='inferno',\n",
    "                    label='spectrogram',\n",
    "                    #levels=levels,\n",
    "                    rasterized=True)\n",
    "rect = np.array(ax3.get_position().bounds)\n",
    "rect[0] += rect[2] + 0.01\n",
    "rect[2] = 0.05\n",
    "fig = plt.gcf()\n",
    "cax = fig.add_axes(rect)\n",
    "\n",
    "cbar = fig.colorbar(im, cax=cax, extend='both')\n",
    "cbar.set_ticks(10.**np.arange(-5, 5))\n",
    "cbar.set_label('(a.u.)', labelpad=0)\n",
    "ax3.axis(ax3.axis('tight'))\n",
    "if i == 0:\n",
    "    ax3.set_ylabel('$f$ (Hz)', labelpad=0)\n",
    "ax3.set_xlabel(r'$\\tau$ (ms)', labelpad=0)\n",
    "ax3.set_title('SPW-R spectrogram')\n",
    "\n",
    "# save figure\n",
    "# fig.savefig(os.path.join('figures', 'figure1A.pdf'), \n",
    "#             dpi=300, bbox_inches='tight', pad_inches=0.0)\n",
    "# fig.savefig(os.path.join('figures', 'figure1A.eps'), \n",
    "#             dpi=300, bbox_inches='tight', pad_inches=0.0)"
   ]
  },
  {
   "cell_type": "markdown",
   "metadata": {},
   "source": [
    "## Panel B:"
   ]
  },
  {
   "cell_type": "code",
   "execution_count": null,
   "metadata": {},
   "outputs": [],
   "source": [
    "fig, ax = plt.subplots(1, figsize=(12, 8))\n",
    "annotate_subplot(ax, ncols=1, nrows=1, letter='B')\n",
    "ax.axis('off')\n",
    "\n",
    "ms = 12  # marker size\n",
    "n_samples = 11\n",
    "\n",
    "for i, l in enumerate(model._layers):\n",
    "    if l._name.rfind('input') >= 0:\n",
    "        marker = 'o'\n",
    "        color = 'k'\n",
    "        ls = ''\n",
    "        name = 'Input'\n",
    "    elif l._name.rfind('gaussian_noise') >= 0:\n",
    "        marker = 'P'\n",
    "        color = 'gray'\n",
    "        ls = ''\n",
    "        name = 'Gaussian'\n",
    "    elif l._name.rfind('conv1d') >= 0:\n",
    "        marker = '*'\n",
    "        color = 'k'\n",
    "        ls = ''\n",
    "        name = 'Conv1D'\n",
    "    elif l._name.rfind('LSTM') >= 0:\n",
    "        marker = '>'\n",
    "        color = 'C0'\n",
    "        ls = ''\n",
    "        name = 'LSTM'\n",
    "    elif l._name.rfind('bidir') >= 0:\n",
    "        marker = '><'\n",
    "        color = 'C0'\n",
    "        ls = ''\n",
    "        name = 'Bidir(LSTM)'\n",
    "    elif l._name.rfind('time_distributed') >= 0:\n",
    "        marker = 'D'\n",
    "        color = 'k'\n",
    "        ls = ''\n",
    "        name = 'TimeDistributed(Dense)'\n",
    "    elif l._name.rfind('dropout') >= 0:\n",
    "        marker = '$D$'\n",
    "        color = 'gray'\n",
    "        ls = ''\n",
    "        name = 'Dropout'\n",
    "    elif l._name.rfind('batch_normalization') >= 0:\n",
    "        marker = '$N$'\n",
    "        color = 'gray'\n",
    "        ls = ''\n",
    "        name = 'BatchNorm'\n",
    "    elif l._name.rfind('activation') >= 0:\n",
    "        marker = 'X'\n",
    "        color = 'gray'\n",
    "        ls = ''\n",
    "        name = 'Activation(ReLu)'\n",
    "    else:\n",
    "        raise NotImplementedError\n",
    "        marker = '.'\n",
    "        color = 'gray'\n",
    "        ls = ''\n",
    "        name = 'none'\n",
    "    \n",
    "    # 'node' position along time axis\n",
    "    xpos = np.arange(n_samples) - (n_samples // 2)\n",
    "    ypos = np.zeros(n_samples) + i\n",
    "    \n",
    "    # draw vertices across layers\n",
    "    source_x = xpos\n",
    "    target_x = xpos\n",
    "    source_y = ypos\n",
    "    target_y = ypos + 1\n",
    "    for (sx, sy, tx, ty) in zip(source_x, source_y, target_x, target_y):\n",
    "        ax.plot([sx, tx], [sy, ty], '-', \n",
    "                color='gray', lw=0.5, zorder=-1, clip_on=False)\n",
    "    if name.rfind('LSTM') >= 0:\n",
    "        ax.plot([-n_samples/2, n_samples/2], [i, i], '-',\n",
    "                 color='gray', lw=0.5, zorder=-1, clip_on=False)\n",
    "    \n",
    "    if name in ['Input']:\n",
    "        for (sx, sy, tx, ty) in zip(source_x, source_y-1, target_x, target_y-1):\n",
    "            ax.plot([sx, tx], [sy, ty], '-', \n",
    "                    color='gray', lw=0.5, zorder=-1, clip_on=False)\n",
    "    \n",
    "    # draw horizontal box with width corresponding to # samples\n",
    "    if name in ['Input', 'Conv1D', 'TimeDistributed(Dense)']:\n",
    "        if isinstance(l.input_shape, tuple):\n",
    "            for j in range(l.output_shape[-1]):\n",
    "                if j == 0:\n",
    "                    rect = plt.Rectangle((-(n_samples / 2) - 0.25, i-0.25), n_samples + 0.5, 0.5, \n",
    "                                         clip_on=False)\n",
    "                    ax.add_patch(rect)\n",
    "                else:\n",
    "                    rect = plt.Rectangle((-(n_samples / 2) - 0.25 + j*0.01, i-0.25+j*0.01), \n",
    "                                         n_samples + 0.5, 0.5, \n",
    "                                         zorder=-j,\n",
    "                                         fc='gray',\n",
    "                                         clip_on=False)\n",
    "                    ax.add_patch(rect)\n",
    "        else:\n",
    "            rect = plt.Rectangle((-(n_samples / 2) - 0.25, i-0.25), n_samples + 0.5, 0.5, clip_on=False)\n",
    "            ax.add_patch(rect)\n",
    "    else:\n",
    "        if name in ['Bidir(LSTM)']:\n",
    "            for j in range(l.output_shape[-1] // 2):\n",
    "                if j == 0:\n",
    "                    colorj = color\n",
    "                else:\n",
    "                    colorj = 'gray'\n",
    "                ax.plot(xpos + j*0.01, ypos + j*0.01, \n",
    "                        ls=ls, color=colorj, marker=marker[0], ms=ms, zorder=-j, clip_on=False)\n",
    "                xy_offset = 0.25\n",
    "                ax.plot(xpos + xy_offset + j*0.01, ypos + xy_offset + j*0.01,\n",
    "                        ls=ls, color=colorj, marker=marker[1], ms=ms, zorder=-j, clip_on=False)\n",
    "            ax.plot([-n_samples / 2 + xy_offset, n_samples / 2 + xy_offset], \n",
    "                    [i + xy_offset, i + xy_offset], \n",
    "                    ls=':', color='gray', lw=0.5, zorder=-1, clip_on=False)\n",
    "            for (sx, sy) in zip(source_x + xy_offset, source_y):\n",
    "                ax.plot([sx, sx], [sy - 0.5 + xy_offset, sy + 0.5 + xy_offset], ':', \n",
    "                        color='gray', lw=0.5, zorder=-1, clip_on=False)\n",
    "        elif name in ['LSTM']:\n",
    "            for j in range(l.output_shape[-1] // 2):\n",
    "                if j > 0:\n",
    "                    color='gray'\n",
    "                ax.plot(xpos + j*0.01, ypos + j*0.01, \n",
    "                        ls=ls, color=color, marker=marker, ms=ms, zorder=-j, clip_on=False)\n",
    "        else:\n",
    "            ax.plot(xpos, ypos, \n",
    "                    ls=ls, color=color, marker=marker, ms=ms, clip_on=False)\n",
    "        \n",
    "    # layer names\n",
    "    if isinstance(l.input_shape, tuple):\n",
    "        ax.text(n_samples / 2 + 0.5 , i, \n",
    "                name + r'$^{(N,%s)}$' % (l.output_shape[-1]), \n",
    "                va='center', clip_on=False)\n",
    "    elif isinstance(l.input_shape, list):\n",
    "        ax.text(n_samples / 2 + 0.5, i, \n",
    "                name + r'$_{(N,%s)}^{(N,%s)}$' % (l.input_shape[0][-1], l.output_shape[0][-1]), \n",
    "                va='center', clip_on=False)\n",
    "\n",
    "# plot input/output prediction data labels\n",
    "for i in range(- (n_samples // 2), n_samples // 2 + 1):\n",
    "    if i < 0:\n",
    "        xstring = r'$X^{\\langle n-%s \\rangle}$' % str(abs(i))\n",
    "    elif i == 0:\n",
    "        xstring = r'$X^{\\langle n \\rangle}$'\n",
    "    else:\n",
    "        xstring = r'$X^{\\langle n+%s \\rangle}$' % str(i)\n",
    "    ystring = xstring.replace('X', '\\hat{y}')\n",
    "    \n",
    "    ax.text(i, -1, xstring, ha='center', va='center')\n",
    "    ax.text(i, len(model.layers), ystring, ha='center', va='center')\n",
    "\n",
    "# plot input LFP trace\n",
    "i = 0\n",
    "x_trace = X0_[i, ] - X0_[i, ].mean() - 2\n",
    "ax.plot(time / time.max() * (n_samples // 2 + 1), x_trace, 'k', lw=1, clip_on=False)\n",
    "ax.text((n_samples // 2 + 1), -2, r'$X(t)$')\n",
    "\n",
    "# plot output prediction\n",
    "y_hat = Y_cont_pred[:, inds[0]-lag:inds[0] + lag + 1, :].flatten()\n",
    "ax.plot(time / time.max() * (n_samples // 2 + 1), y_hat + len(model.layers) + 1, 'k', lw=1, clip_on=False)\n",
    "ax.text((n_samples // 2 + 1), len(model.layers) + 1, r'$\\hat{y}(t)$')\n",
    "\n",
    "# additional lines\n",
    "for i in range(-(n_samples // 2), n_samples // 2 + 1):\n",
    "    ax.plot([time[lag + i] / time.max() * (n_samples // 2 + 1), i], [x_trace[lag + i], -1],\n",
    "            '-', color='gray', lw=0.5, zorder=-1)\n",
    "    ax.plot([time[lag + i] / time.max() * (n_samples // 2 + 1), i], \n",
    "            [y_hat[lag + i] + len(model.layers) + 1, len(model.layers)],\n",
    "            '-', color='gray', lw=0.5, zorder=-1)\n",
    "ax.set_xlim(-(n_samples / 2)-0.5, n_samples / 2 + 3)"
   ]
  },
  {
   "cell_type": "markdown",
   "metadata": {},
   "source": [
    "# Figure 1\n"
   ]
  },
  {
   "cell_type": "code",
   "execution_count": null,
   "metadata": {},
   "outputs": [],
   "source": [
    "fig = plt.figure(figsize=(12, 8))\n",
    "gs = GridSpec(3, 9, hspace=0.2, wspace=-0.1)\n",
    "\n",
    "i = 0\n",
    "\n",
    "# raw LFP with ripple label\n",
    "ax0 = fig.add_subplot(gs[0, :2])\n",
    "ax0.plot(time, X0_[i, ] - X0_[i, ].mean(), 'k', lw=0.5,  \n",
    "        label=r'$X^{\\langle' + '{}'.format(i+1) + r'\\rangle}(t)$')\n",
    "ax0.set_ylabel('(mV)', labelpad=0)\n",
    "ax0.axis(ax0.axis('tight'))\n",
    "for spine in ['top', 'right', 'bottom']:\n",
    "    ax0.spines[spine].set_visible(False)\n",
    "ax0.set_xticks([])\n",
    "ax0.set_xticklabels([])\n",
    "ax0.set_title('LFP/SPW-R')\n",
    "annotate_subplot(ax0, ncols=10, nrows=8, letter='A')\n",
    "\n",
    "# band-pass filtered LFP\n",
    "ax2 = fig.add_subplot(gs[1, :2])\n",
    "ax2.plot(time, X1_[i, ], 'k', lw=0.5, label=r'$\\phi_\\mathrm{BP}(t)$')\n",
    "ax2.axis(ax2.axis('tight'))\n",
    "ax2.set_ylabel('(mV)', labelpad=0)\n",
    "for spine in ['top', 'right', 'bottom']:\n",
    "    ax2.spines[spine].set_visible(False)\n",
    "ax2.set_xticks([])\n",
    "ax2.set_xticklabels([])\n",
    "ax2.set_title(r'$150-250$ Hz SPW-R')\n",
    "\n",
    "\n",
    "# spectrogram\n",
    "#ax3 = axes[2]\n",
    "ax3 = fig.add_subplot(gs[2, :2])\n",
    "vmin, vmax_ = np.exp(np.percentile(np.log(f[session]['S'][:Fs*30, :].flatten()), [1, 99.9]))\n",
    "#levels = np.linspace(vmin, vmax_, 20)\n",
    "im = ax3.pcolormesh(time, S_freqs, S_[i, ].T, \n",
    "                    norm=colors.LogNorm(vmin=vmin, vmax=vmax_),\n",
    "                    cmap='inferno',\n",
    "                    label='spectrogram',\n",
    "                    #levels=levels,\n",
    "                    rasterized=True)\n",
    "rect = np.array(ax3.get_position().bounds)\n",
    "rect[0] += rect[2] + 0.002\n",
    "rect[2] = 0.015\n",
    "fig = plt.gcf()\n",
    "cax = fig.add_axes(rect)\n",
    "\n",
    "cbar = fig.colorbar(im, cax=cax, extend='both', aspect=1)\n",
    "cbar.set_ticks(10.**np.arange(-5, 5))\n",
    "cbar.set_label('(a.u.)', labelpad=0)\n",
    "ax3.axis(ax3.axis('tight'))\n",
    "if i == 0:\n",
    "    ax3.set_ylabel('$f$ (Hz)', labelpad=0)\n",
    "ax3.set_xlabel(r'$\\tau$ (ms)', labelpad=0)\n",
    "ax3.set_title('SPW-R spectrogram')\n",
    "\n",
    "\n",
    "\n",
    "##############################################\n",
    "ax = fig.add_subplot(gs[:, 3:])\n",
    "\n",
    "annotate_subplot(ax, ncols=1, nrows=2.5, letter='B')\n",
    "ax.axis('off')\n",
    "\n",
    "ms = 12  # marker size\n",
    "n_samples = 7 # number of time samples\n",
    "\n",
    "for i, l in enumerate(model._layers):\n",
    "    if l._name.rfind('input') >= 0:\n",
    "        marker = 'o'\n",
    "        color = 'k'\n",
    "        ls = ''\n",
    "        name = 'Input'\n",
    "    elif l._name.rfind('gaussian_noise') >= 0:\n",
    "        marker = 'P'\n",
    "        color = 'gray'\n",
    "        ls = ''\n",
    "        name = 'Gaussian'\n",
    "    elif l._name.rfind('conv1d') >= 0:\n",
    "        marker = '*'\n",
    "        color = 'k'\n",
    "        ls = ''\n",
    "        name = 'Conv1D'\n",
    "    elif l._name.rfind('LSTM') >= 0:\n",
    "        marker = '>'\n",
    "        color = 'k'\n",
    "        ls = ''\n",
    "        name = 'LSTM'\n",
    "    elif l._name.rfind('bidir') >= 0:\n",
    "        marker = '><'\n",
    "        color = 'k'\n",
    "        ls = ''\n",
    "        name = 'Bidir(LSTM)'\n",
    "    elif l._name.rfind('time_distributed') >= 0:\n",
    "        marker = 'D'\n",
    "        color = 'k'\n",
    "        ls = ''\n",
    "        name = 'TimeDistributed(Dense)'\n",
    "    elif l._name.rfind('dropout') >= 0:\n",
    "        marker = '$D$'\n",
    "        color = 'gray'\n",
    "        ls = ''\n",
    "        name = 'Dropout'\n",
    "    elif l._name.rfind('batch_normalization') >= 0:\n",
    "        marker = '$N$'\n",
    "        color = 'gray'\n",
    "        ls = ''\n",
    "        name = 'BatchNorm'\n",
    "    elif l._name.rfind('activation') >= 0:\n",
    "        marker = 'X'\n",
    "        color = 'gray'\n",
    "        ls = ''\n",
    "        name = 'Activation(ReLu)'\n",
    "    else:\n",
    "        raise NotImplementedError\n",
    "        marker = '.'\n",
    "        color = 'gray'\n",
    "        ls = ''\n",
    "        name = 'none'\n",
    "    \n",
    "    # 'node' position along time axis\n",
    "    xpos = np.arange(n_samples) - (n_samples // 2)\n",
    "    ypos = np.zeros(n_samples) + i\n",
    "    \n",
    "    # draw vertices across layers\n",
    "    source_x = xpos\n",
    "    target_x = xpos\n",
    "    source_y = ypos\n",
    "    target_y = ypos + 1\n",
    "    for (sx, sy, tx, ty) in zip(source_x, source_y, target_x, target_y):\n",
    "        ax.plot([sx, tx], [sy, ty], '-', \n",
    "                color='gray', lw=0.5, zorder=-1, clip_on=False)\n",
    "    if name.rfind('LSTM') >= 0:\n",
    "        ax.plot([-n_samples/2, n_samples/2], [i, i], '-',\n",
    "                 color='gray', lw=0.5, zorder=-1, clip_on=False)\n",
    "    \n",
    "    if name in ['Input']:\n",
    "        for (sx, sy, tx, ty) in zip(source_x, source_y-1, target_x, target_y-1):\n",
    "            ax.plot([sx, tx], [sy, ty], '-', \n",
    "                    color='gray', lw=0.5, zorder=-1, clip_on=False)\n",
    "    \n",
    "    # draw horizontal box with width corresponding to # samples\n",
    "    if name in ['Input', 'Conv1D', 'TimeDistributed(Dense)']:\n",
    "        if isinstance(l.input_shape, tuple):\n",
    "            for j in range(l.output_shape[-1]):\n",
    "                if j == 0:\n",
    "                    rect = plt.Rectangle((-(n_samples / 2) - 0.25, i-0.25), n_samples + 0.5, 0.5, \n",
    "                                         color=color, clip_on=False)\n",
    "                    ax.add_patch(rect)\n",
    "                else:\n",
    "                    rect = plt.Rectangle((-(n_samples / 2) - 0.25 + j*0.01, i-0.25+j*0.01), \n",
    "                                         n_samples + 0.5, 0.5, \n",
    "                                         zorder=-j,\n",
    "                                         ec='gray', fc='gray',\n",
    "                                         clip_on=False)\n",
    "                    ax.add_patch(rect)\n",
    "        else:\n",
    "            rect = plt.Rectangle((-(n_samples / 2) - 0.25, i-0.25), n_samples + 0.5, 0.5, \n",
    "                                 color=color, clip_on=False)\n",
    "            ax.add_patch(rect)\n",
    "    else:\n",
    "        if name in ['Bidir(LSTM)']:\n",
    "            for j in range(l.output_shape[-1] // 2):\n",
    "                if j == 0:\n",
    "                    colorj = color\n",
    "                else:\n",
    "                    colorj = 'gray'\n",
    "                ax.plot(xpos + j*0.01, ypos + j*0.01, \n",
    "                        ls=ls, color=colorj, marker=marker[0], ms=ms, zorder=-j, clip_on=False)\n",
    "                xy_offset = 0.25\n",
    "                ax.plot(xpos + xy_offset + j*0.01, ypos + xy_offset + j*0.01,\n",
    "                        ls=ls, color=colorj, marker=marker[1], ms=ms, zorder=-j, clip_on=False)\n",
    "            ax.plot([-n_samples / 2 + xy_offset, n_samples / 2 + xy_offset], \n",
    "                    [i + xy_offset, i + xy_offset], \n",
    "                    ls=':', color='gray', lw=0.5, zorder=-1, clip_on=False)\n",
    "            for (sx, sy) in zip(source_x + xy_offset, source_y):\n",
    "                ax.plot([sx, sx], [sy - 0.5 + xy_offset, sy + 0.5 + xy_offset], ':', \n",
    "                        color='gray', lw=0.5, zorder=-1, clip_on=False)\n",
    "        elif name in ['LSTM']:\n",
    "            for j in range(l.output_shape[-1] // 2):\n",
    "                if j > 0:\n",
    "                    color='gray'\n",
    "                ax.plot(xpos + j*0.01, ypos + j*0.01, \n",
    "                        ls=ls, color=color, marker=marker, ms=ms, zorder=-j, clip_on=False)\n",
    "        else:\n",
    "            ax.plot(xpos, ypos, \n",
    "                    ls=ls, color=color, marker=marker, ms=ms, clip_on=False)\n",
    "        \n",
    "    # layer names\n",
    "    if isinstance(l.input_shape, tuple):\n",
    "        ax.text(n_samples / 2 + 0.5 , i, \n",
    "                name + r'$^{(N,%s)}$' % (l.output_shape[-1]), \n",
    "                va='center', clip_on=False)\n",
    "    elif isinstance(l.input_shape, list):\n",
    "        ax.text(n_samples / 2 + 0.5, i, \n",
    "                name + r'$_{(N,%s)}^{(N,%s)}$' % (l.input_shape[0][-1], l.output_shape[0][-1]), \n",
    "                va='center', clip_on=False)\n",
    "\n",
    "# plot input/output prediction data labels\n",
    "for i in range(- (n_samples // 2), n_samples // 2 + 1):\n",
    "    if i < 0:\n",
    "        xstring = r'$X^{\\langle n-%s \\rangle}$' % str(abs(i))\n",
    "    elif i == 0:\n",
    "        xstring = r'$X^{\\langle n \\rangle}$'\n",
    "    else:\n",
    "        xstring = r'$X^{\\langle n+%s \\rangle}$' % str(i)\n",
    "    ystring = xstring.replace('X', '\\hat{y}')\n",
    "    \n",
    "    ax.text(i, -1, xstring, ha='center', va='center')\n",
    "    ax.text(i, len(model.layers), ystring, ha='center', va='center')\n",
    "\n",
    "# plot input LFP trace\n",
    "i = 0\n",
    "x_trace = X0_[i, ] - X0_[i, ].mean() - 2\n",
    "ax.plot(time / time.max() * (n_samples // 2 + 1), x_trace, 'k', lw=1, clip_on=False)\n",
    "ax.text((n_samples // 2 + 1), -2, r'$X(t)$')\n",
    "\n",
    "# plot output prediction\n",
    "y_hat = Y_cont_pred[:, inds[0]-lag:inds[0] + lag + 1, :].flatten()\n",
    "ax.plot(time / time.max() * (n_samples // 2 + 1), y_hat + len(model.layers) + 1, 'k', lw=1, clip_on=False)\n",
    "ax.text((n_samples // 2 + 1), len(model.layers) + 1, r'$\\hat{y}(t)$')\n",
    "\n",
    "# additional lines\n",
    "for i in range(-(n_samples // 2), n_samples // 2 + 1):\n",
    "    ax.plot([time[lag + i] / time.max() * (n_samples // 2 + 1), i], [x_trace[lag + i], -1],\n",
    "            '-', color='gray', lw=0.5, zorder=-1)\n",
    "    ax.plot([time[lag + i] / time.max() * (n_samples // 2 + 1), i], \n",
    "            [y_hat[lag + i] + len(model.layers) + 1, len(model.layers)],\n",
    "            '-', color='gray', lw=0.5, zorder=-1)\n",
    "ax.set_xlim(-(n_samples / 2)-0.5, n_samples / 2 + 3)\n",
    "\n",
    "fig.savefig(os.path.join('figures', 'figure01.pdf'), \n",
    "            dpi=300, bbox_inches='tight', pad_inches=0.0)\n",
    "fig.savefig(os.path.join('figures', 'figure01.eps'), \n",
    "            dpi=300, bbox_inches='tight', pad_inches=0.0)"
   ]
  },
  {
   "cell_type": "code",
   "execution_count": null,
   "metadata": {},
   "outputs": [],
   "source": []
  }
 ],
 "metadata": {
  "colab": {
   "collapsed_sections": [],
   "name": "RippleNet_timeseries_prediction.ipynb",
   "provenance": []
  },
  "kernelspec": {
   "display_name": "Python 3",
   "language": "python",
   "name": "python3"
  },
  "language_info": {
   "codemirror_mode": {
    "name": "ipython",
    "version": 3
   },
   "file_extension": ".py",
   "mimetype": "text/x-python",
   "name": "python",
   "nbconvert_exporter": "python",
   "pygments_lexer": "ipython3",
   "version": "3.6.10"
  }
 },
 "nbformat": 4,
 "nbformat_minor": 1
}
