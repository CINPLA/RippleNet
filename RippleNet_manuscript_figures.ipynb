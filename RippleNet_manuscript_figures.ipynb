{
 "cells": [
  {
   "cell_type": "markdown",
   "metadata": {
    "colab_type": "text",
    "id": "TN9LZfZGIIhJ"
   },
   "source": [
    "# RippleNet_manuscript_figures\n",
    "Plotting codes for manuscript figures 2-7 in E. Hagen, A.R. Chambers, G.T. Einevoll, K.H.Pettersen, R. Enger and A.J. Stasik (2020). \n",
    "\n",
    "Author: Espen Hagen (<https://github.com/espenhgn>)\n",
    "\n",
    "LICENSE: <https://github.com/espenhgn/RippleNet/blob/master/LICENSE>"
   ]
  },
  {
   "cell_type": "code",
   "execution_count": null,
   "metadata": {
    "colab": {
     "base_uri": "https://localhost:8080/",
     "height": 139
    },
    "colab_type": "code",
    "executionInfo": {
     "elapsed": 24606,
     "status": "ok",
     "timestamp": 1589369932010,
     "user": {
      "displayName": "Espen Hagen",
      "photoUrl": "",
      "userId": "16098989268258426650"
     },
     "user_tz": -120
    },
    "id": "2nABtpVXIIhQ",
    "outputId": "6506d04b-0737-4b6c-c519-e4fb6303d4fd"
   },
   "outputs": [],
   "source": [
    "# allow running on Google Colab, using data on Google Drive\n",
    "try:\n",
    "    from google.colab import drive\n",
    "    drive.mount('/content/gdrive')\n",
    "    %cd gdrive/My\\ Drive/Colab\\ Notebooks/RippleNet\n",
    "    %tensorflow_version 2.x\n",
    "except:\n",
    "    pass"
   ]
  },
  {
   "cell_type": "code",
   "execution_count": null,
   "metadata": {
    "colab": {},
    "colab_type": "code",
    "id": "BuiiSuJNIIha"
   },
   "outputs": [],
   "source": [
    "%matplotlib inline"
   ]
  },
  {
   "cell_type": "code",
   "execution_count": null,
   "metadata": {
    "colab": {},
    "colab_type": "code",
    "id": "NA2x5a3LIIhf"
   },
   "outputs": [],
   "source": [
    "import os\n",
    "import numpy as np\n",
    "import scipy.signal as ss\n",
    "import matplotlib.pyplot as plt\n",
    "from matplotlib.gridspec import GridSpec\n",
    "import tensorflow\n",
    "from tensorflow import keras\n",
    "import h5py\n",
    "from glob import glob\n",
    "import pandas as pd\n",
    "import pickle\n",
    "from matplotlib import colors\n",
    "from ripplenet.common import *"
   ]
  },
  {
   "cell_type": "code",
   "execution_count": null,
   "metadata": {
    "colab": {},
    "colab_type": "code",
    "id": "AqsY0HUqABCS"
   },
   "outputs": [],
   "source": [
    "# make figures appear consistent across plots/notebooks\n",
    "plt.rcParams.update(rcParams)"
   ]
  },
  {
   "cell_type": "code",
   "execution_count": null,
   "metadata": {
    "colab": {},
    "colab_type": "code",
    "id": "1ayiW8Zxghi5"
   },
   "outputs": [],
   "source": [
    "# pandas print precision\n",
    "pd.set_option('precision', 3)"
   ]
  },
  {
   "cell_type": "code",
   "execution_count": null,
   "metadata": {
    "colab": {},
    "colab_type": "code",
    "id": "oywNsD3eIIhr"
   },
   "outputs": [],
   "source": [
    "# set random seeds\n",
    "np.random.seed(1234)\n",
    "tensorflow.random.set_seed(12345)"
   ]
  },
  {
   "cell_type": "code",
   "execution_count": null,
   "metadata": {
    "colab": {},
    "colab_type": "code",
    "id": "s79ZchGO0yU_"
   },
   "outputs": [],
   "source": [
    "# create folder for figure files\n",
    "if not os.path.isdir('figures'):\n",
    "    os.mkdir('figures')"
   ]
  },
  {
   "cell_type": "markdown",
   "metadata": {
    "colab_type": "text",
    "id": "Eju_xMdt0uOt"
   },
   "source": [
    "# load validation data"
   ]
  },
  {
   "cell_type": "code",
   "execution_count": null,
   "metadata": {
    "colab": {},
    "colab_type": "code",
    "id": "K7Ec-Cv0k4z_"
   },
   "outputs": [],
   "source": [
    "# select species for validation stats (mouse, rat or both)\n",
    "mouse = True\n",
    "rat = True\n",
    "\n",
    "# data string\n",
    "dataset = 'validation'"
   ]
  },
  {
   "cell_type": "code",
   "execution_count": null,
   "metadata": {
    "colab": {},
    "colab_type": "code",
    "id": "MAq_5P6r0uOx"
   },
   "outputs": [],
   "source": [
    "# select dataset (may have generated different sets.)\n",
    "dataset_index = 0 "
   ]
  },
  {
   "cell_type": "code",
   "execution_count": null,
   "metadata": {
    "colab": {},
    "colab_type": "code",
    "id": "YFGAXgY8IIh0"
   },
   "outputs": [],
   "source": [
    "if mouse:\n",
    "    # load mouse validation datas with labels\n",
    "    f = h5py.File(os.path.join('data', '{}_{:02}.h5'.format(dataset, dataset_index)), 'r')\n",
    "    X0 = f['X0'][:] # Raw LFP segments\n",
    "    X1 = f['X1'][:] # Band-pass filtered LFP segments\n",
    "    S = f['S'][:] # Wavelet spectrograms\n",
    "    Y = f['Y'][:] # Numeric labels array\n",
    "    labels = f['labels'][:]\n",
    "    all_labels = f['all_labels'][:]\n",
    "    S_freqs = f['S_freqs'][:]\n",
    "    f.close()\n",
    "\n",
    "    # fix dimensionality for test set\n",
    "    X_val = np.expand_dims(X0, -1)\n",
    "    Y_val = Y\n",
    "\n",
    "    # center raw data (only used for visualization)\n",
    "    X0 = (X0.T - X0.mean(axis=-1)).T"
   ]
  },
  {
   "cell_type": "code",
   "execution_count": null,
   "metadata": {
    "colab": {},
    "colab_type": "code",
    "id": "xSLxuxoJ2ypn"
   },
   "outputs": [],
   "source": [
    "if mouse and rat:\n",
    "    # load test datas with labels\n",
    "    f = h5py.File(os.path.join('data', '{}_tingley_{:02}.h5'.format(dataset, dataset_index)), 'r')\n",
    "\n",
    "    X_val = np.concatenate((X_val, np.expand_dims(f['X0'][:], -1)))\n",
    "    Y_val = np.concatenate((Y_val, f['Y'][:]))\n",
    "\n",
    "    X0 = np.concatenate((X0, f['X0'][:])) # Raw LFP segments\n",
    "    X1 = np.concatenate((X1, f['X1'][:])) # Band-pass filtered LFP segments\n",
    "    S = np.concatenate((S, f['S'][:])) # Wavelet spectrograms\n",
    "    Y = np.concatenate((Y, f['Y'][:])) # Numeric labels array\n",
    "    labels = np.concatenate((labels, f['labels'][:]))\n",
    "    all_labels = np.concatenate((all_labels, f['all_labels'][:]))\n",
    "    f.close()\n",
    "\n",
    "    # center raw data (only used for visualization)\n",
    "    X0 = (X0.T - X0.mean(axis=-1)).T "
   ]
  },
  {
   "cell_type": "code",
   "execution_count": null,
   "metadata": {
    "colab": {},
    "colab_type": "code",
    "id": "rsY-J1Ykli0d"
   },
   "outputs": [],
   "source": [
    "if rat and not mouse:\n",
    "    # load test datas with labels\n",
    "    f = h5py.File(os.path.join('data', '{}_tingley_{:02}.h5'.format(dataset, dataset_index)), 'r')\n",
    "    \n",
    "    X0 = f['X0'][:] # Raw LFP segments\n",
    "    X1 = f['X1'][:] # Band-pass filtered LFP segments\n",
    "    S = f['S'][:] # Wavelet spectrograms\n",
    "    Y = f['Y'][:] # Numeric labels array\n",
    "    labels = f['labels'][:]\n",
    "    all_labels = f['all_labels'][:]\n",
    "    S_freqs = f['S_freqs'][:]\n",
    "    f.close()\n",
    "\n",
    "    # fix dimensionality for test set\n",
    "    X_val = np.expand_dims(X0, -1)\n",
    "    Y_val = Y\n",
    "\n",
    "    # center raw data (only used for visualization)\n",
    "    X0 = (X0.T - X0.mean(axis=-1)).T"
   ]
  },
  {
   "cell_type": "code",
   "execution_count": null,
   "metadata": {
    "colab": {
     "base_uri": "https://localhost:8080/",
     "height": 34
    },
    "colab_type": "code",
    "executionInfo": {
     "elapsed": 29803,
     "status": "ok",
     "timestamp": 1589369937249,
     "user": {
      "displayName": "Espen Hagen",
      "photoUrl": "",
      "userId": "16098989268258426650"
     },
     "user_tz": -120
    },
    "id": "ScDBJ6DqIIiD",
    "outputId": "155af5e5-97df-4dbe-da45-268caf9d55cc"
   },
   "outputs": [],
   "source": [
    "# shapes of validation input/output\n",
    "X_val.shape, Y_val.shape"
   ]
  },
  {
   "cell_type": "code",
   "execution_count": null,
   "metadata": {
    "colab": {},
    "colab_type": "code",
    "id": "OcRNLwWDIIiS"
   },
   "outputs": [],
   "source": [
    "# some needed parameters\n",
    "n_samples = X0.shape[0] # total number of samples\n",
    "Fs = 1250 # Hz, sampling freq\n",
    "time = np.arange(X0.shape[1]) / Fs"
   ]
  },
  {
   "cell_type": "code",
   "execution_count": null,
   "metadata": {
    "colab": {},
    "colab_type": "code",
    "id": "vOOl4zttbOLD"
   },
   "outputs": [],
   "source": [
    "# width of boxcar around each labeled event\n",
    "y_label_width = int(50 * Fs / 1000) # 50 ms @ Fs"
   ]
  },
  {
   "cell_type": "code",
   "execution_count": null,
   "metadata": {
    "colab": {},
    "colab_type": "code",
    "id": "HqXxFdGBIIie"
   },
   "outputs": [],
   "source": [
    "# default settings for detecting event from predictions\n",
    "threshold = 0.5\n",
    "distance = int(50 * Fs / 1000) # ms @ Fs, peak interdistance\n",
    "width = int(20 * Fs / 1000) # ms @ Fs, peak width"
   ]
  },
  {
   "cell_type": "markdown",
   "metadata": {
    "colab_type": "text",
    "id": "cuLrEgSVIIjG"
   },
   "source": [
    "## Figure 2:"
   ]
  },
  {
   "cell_type": "code",
   "execution_count": null,
   "metadata": {
    "colab": {
     "base_uri": "https://localhost:8080/",
     "height": 334
    },
    "colab_type": "code",
    "executionInfo": {
     "elapsed": 36231,
     "status": "ok",
     "timestamp": 1589369943688,
     "user": {
      "displayName": "Espen Hagen",
      "photoUrl": "",
      "userId": "16098989268258426650"
     },
     "user_tz": -120
    },
    "id": "zMzkbBQKIIjI",
    "outputId": "b5df1dc2-2422-4570-c6e4-80a724b3102b"
   },
   "outputs": [],
   "source": [
    "ncols = 4 # number of columns (validation samples) in plot\n",
    "\n",
    "fig, axes = plt.subplots(3, ncols, figsize=(12, 4), sharey='row', sharex=True)\n",
    "fig.subplots_adjust(wspace=0.1, hspace=0.4, left=0.05, right=0.95, top=0.95, bottom=0.1)\n",
    "\n",
    "for i in range(ncols):\n",
    "    # raw LFP with ripple label\n",
    "    ax0 = axes[0, i]\n",
    "    ax0.plot(time, X_val[i, ] - X_val[i, ].mean(), 'k', lw=0.5,  \n",
    "             label=r'$X^{\\langle' + '{}'.format(i+1) + r'\\rangle}(t)$')\n",
    "    \n",
    "    idx = all_labels['session'] == labels['session'][i]\n",
    "    lbls = all_labels['rippleLocs'][idx] - labels[i]['rippleLocs'] - labels[i]['offset']\n",
    "    inds = lbls[(lbls >= 0) & (lbls < Fs)]\n",
    "    ax0.plot(time[inds], X_val[i, inds] - X_val[i, ].mean() + 0.4, 'C2d', ms=8, clip_on=False)\n",
    "    ax0.set_title(r'$X^{\\langle' + '{}'.format(i+1) + r'\\rangle}(t)$')\n",
    "    if i == 0:\n",
    "        ax0.set_ylabel('(mV)', labelpad=0)\n",
    "    ax0.axis(ax0.axis('tight'))\n",
    "    for spine in ['top', 'bottom', 'right']:\n",
    "        ax0.spines[spine].set_visible(False)\n",
    "    plt.setp(ax0.get_xticklabels(), visible=False)\n",
    "    ax0.xaxis.set_ticks_position('none')    \n",
    "    \n",
    "\n",
    "    # band-pass filtered LFP\n",
    "    ax1 = axes[1, i]\n",
    "    ax1.plot(time, X1[i, ], 'k', lw=0.5, label=r'$\\phi_\\mathrm{BP}(t)$')\n",
    "    ax1.set_title(r'$\\phi_\\mathrm{BP}^{\\langle' + '{}'.format(i+1) + r'\\rangle}(t)$')\n",
    "    ax1.axis(ax1.axis('tight'))\n",
    "    if i == 0:\n",
    "        ax1.set_ylabel('(mV)', labelpad=0)\n",
    "    for spine in ['top', 'bottom', 'right']:\n",
    "        ax1.spines[spine].set_visible(False)\n",
    "    plt.setp(ax1.get_xticklabels(), visible=False)\n",
    "    ax1.xaxis.set_ticks_position('none')    \n",
    "    \n",
    "    \n",
    "    # Spectrograms\n",
    "    ax2 = axes[2, i]\n",
    "\n",
    "    vmin, vmax = np.exp(np.percentile(np.log(S), [1, 99]))\n",
    "    im = ax2.pcolormesh(time, S_freqs, S[i, ].T, \n",
    "                        norm=colors.LogNorm(vmin=vmin, vmax=vmax),\n",
    "                        cmap='inferno',\n",
    "                        label='spectrogram',\n",
    "                        rasterized=True)\n",
    "    if i == ncols-1:\n",
    "        rect = np.array(ax2.get_position().bounds)\n",
    "        rect[0] += rect[2] + 0.01\n",
    "        rect[2] = 0.01\n",
    "        fig = plt.gcf()\n",
    "        cax = fig.add_axes(rect)\n",
    "        \n",
    "        cbar = fig.colorbar(im, cax=cax, extend='both')\n",
    "        cbar.set_ticks(10.**np.arange(-5, 5))\n",
    "        cbar.set_label('(a.u.)', labelpad=0)\n",
    "    ax2.axis(ax2.axis('tight'))\n",
    "    if i == 0:\n",
    "        ax2.set_ylabel('$f$ (Hz)', labelpad=0)\n",
    "    ax2.set_xlabel('$t$ (s)', labelpad=0)\n",
    "    ax2.set_title(r'$S^{\\langle' + '{}'.format(i+1) + r'\\rangle}(t,f)$')\n",
    "    if i == 0:\n",
    "        annotate_subplot(ax0, ncols=10, nrows=3, letter='A')\n",
    "        annotate_subplot(ax1, ncols=10, nrows=3, letter='B')\n",
    "        annotate_subplot(ax2, ncols=10, nrows=3, letter='C')\n",
    "\n",
    "# save figure\n",
    "fig.savefig(os.path.join('figures', 'figure02.pdf'), dpi=300, bbox_inches='tight', pad_inches=0.05)\n",
    "fig.savefig(os.path.join('figures', 'figure02.eps'), dpi=300, bbox_inches='tight', pad_inches=0.05)"
   ]
  },
  {
   "cell_type": "markdown",
   "metadata": {
    "colab_type": "text",
    "id": "ceu53YkUIIjS"
   },
   "source": [
    "## load trained networks"
   ]
  },
  {
   "cell_type": "code",
   "execution_count": null,
   "metadata": {
    "colab": {},
    "colab_type": "code",
    "id": "jpgrZRpJIIjZ"
   },
   "outputs": [],
   "source": [
    "# choose the epoch giving the best performance on validation set, or last training epoch\n",
    "best = '' #'best_' or '' \n",
    "\n",
    "model_files = [\n",
    "    os.path.join('trained_networks', 'ripplenet_unidirectional_{}random_seed123.h5'.format(best)),\n",
    "    os.path.join('trained_networks', 'ripplenet_unidirectional_{}random_seed456.h5'.format(best)),\n",
    "    os.path.join('trained_networks', 'ripplenet_unidirectional_{}random_seed789.h5'.format(best)),\n",
    "\n",
    "    os.path.join('trained_networks', 'ripplenet_bidirectional_{}random_seed123.h5'.format(best)),\n",
    "    os.path.join('trained_networks', 'ripplenet_bidirectional_{}random_seed456.h5'.format(best)),\n",
    "    os.path.join('trained_networks', 'ripplenet_bidirectional_{}random_seed789.h5'.format(best)),\n",
    "]\n",
    "losses_files = [\n",
    "    os.path.join('trained_networks', 'ripplenet_unidirectional_history_random_seed123.pkl'),\n",
    "    os.path.join('trained_networks', 'ripplenet_unidirectional_history_random_seed456.pkl'),\n",
    "    os.path.join('trained_networks', 'ripplenet_unidirectional_history_random_seed789.pkl'),\n",
    "\n",
    "    os.path.join('trained_networks', 'ripplenet_bidirectional_history_random_seed123.pkl'),\n",
    "    os.path.join('trained_networks', 'ripplenet_bidirectional_history_random_seed456.pkl'),\n",
    "    os.path.join('trained_networks', 'ripplenet_bidirectional_history_random_seed789.pkl'),\n",
    "]"
   ]
  },
  {
   "cell_type": "code",
   "execution_count": null,
   "metadata": {
    "colab": {
     "base_uri": "https://localhost:8080/",
     "height": 221
    },
    "colab_type": "code",
    "executionInfo": {
     "elapsed": 36228,
     "status": "ok",
     "timestamp": 1589369943691,
     "user": {
      "displayName": "Espen Hagen",
      "photoUrl": "",
      "userId": "16098989268258426650"
     },
     "user_tz": -120
    },
    "id": "x8G-R5_ZIIjc",
    "outputId": "3816a53c-287f-44b6-e9a2-24dc498bb84e",
    "scrolled": true
   },
   "outputs": [],
   "source": [
    "model_files, losses_files"
   ]
  },
  {
   "cell_type": "code",
   "execution_count": null,
   "metadata": {
    "colab": {},
    "colab_type": "code",
    "id": "IAWUygqmIIjh"
   },
   "outputs": [],
   "source": [
    "# fill up models and losses containers\n",
    "models = []\n",
    "losses = []\n",
    "for i, (mf, pf) in enumerate(zip(model_files, losses_files)):\n",
    "    models.append(keras.models.load_model(mf))\n",
    "    with open(pf, 'rb') as f:\n",
    "        losses.append(pickle.load(f))"
   ]
  },
  {
   "cell_type": "code",
   "execution_count": null,
   "metadata": {
    "colab": {},
    "colab_type": "code",
    "id": "uXKx7z2dIIjr"
   },
   "outputs": [],
   "source": [
    "# run predictions using all models on the same test set\n",
    "Y_preds = []\n",
    "for model in models:\n",
    "    Y_preds.append(model.predict(X_val))"
   ]
  },
  {
   "cell_type": "markdown",
   "metadata": {
    "colab_type": "text",
    "id": "ddUGHUuFIIj3"
   },
   "source": [
    "## figure 4\n",
    "Visually compare predictions `hat{y}(t)` vs. `y` for samples in figure 1 using different trained networks"
   ]
  },
  {
   "cell_type": "code",
   "execution_count": null,
   "metadata": {
    "colab": {
     "base_uri": "https://localhost:8080/",
     "height": 498
    },
    "colab_type": "code",
    "executionInfo": {
     "elapsed": 96736,
     "status": "ok",
     "timestamp": 1589370004211,
     "user": {
      "displayName": "Espen Hagen",
      "photoUrl": "",
      "userId": "16098989268258426650"
     },
     "user_tz": -120
    },
    "id": "2P-zixp5IIj5",
    "outputId": "a7b31208-e4a1-4113-fa78-fdcc336eba3f"
   },
   "outputs": [],
   "source": [
    "fig = plt.figure(figsize=(12, len(models)+1))\n",
    "gs = GridSpec(2+len(models), ncols, wspace=0.4, hspace=0.4, left=0.05, right=0.95, top=0.95, bottom=0.1)\n",
    "\n",
    "for i in range(ncols):\n",
    "    # raw LFP with ripple label\n",
    "    if i == 0:\n",
    "        ax0 = fig.add_subplot(gs[0, i])\n",
    "    else:\n",
    "        ax0 = fig.add_subplot(gs[0, i], sharey=ax0)\n",
    "    ax0.plot(time, X_val[i, ] - X_val[i, ].mean(), 'k', lw=0.5,  \n",
    "             label=r'$X^{\\langle' + '{}'.format(i+1) + r'\\rangle}(t)$')\n",
    "    idx = all_labels['session'] == labels['session'][i]\n",
    "    lbls = all_labels['rippleLocs'][idx] - labels[i]['rippleLocs'] - labels[i]['offset']\n",
    "    inds = lbls[(lbls >= 0) & (lbls < Fs)]\n",
    "    ax0.plot(time[inds], X_val[i, inds] - X_val[i, ].mean()+0.4, 'C2d', ms=8, clip_on=False)\n",
    "\n",
    "    ax0.set_title(r'$X^{\\langle' + '{}'.format(i+1) + r'\\rangle}(t)$')\n",
    "    if i == 0:\n",
    "        ax0.set_ylabel('(mV)', labelpad=0)\n",
    "    ax0.axis(ax0.axis('tight'))\n",
    "    if i > 0:\n",
    "        plt.setp(ax0.get_yticklabels(), visible=False)\n",
    "    for spine in ['top', 'bottom', 'right']:\n",
    "        ax0.spines[spine].set_visible(False)\n",
    "    plt.setp(ax0.get_xticklabels(), visible=False)\n",
    "    ax0.xaxis.set_ticks_position('none')    \n",
    "\n",
    "    # label vector\n",
    "    ax1 = fig.add_subplot(gs[1, i], sharex=ax0)\n",
    "    ax1.plot(time, Y_val[i, ], 'k', lw=0.5, clip_on=False)\n",
    "    ax1.text(time[0]-0.1, 0.5, r'$y^{\\langle' + '{}'.format(i+1) + r'\\rangle}(t)$', ha='right', va='center')\n",
    "    ax1.axis(ax1.axis('tight'))\n",
    "    ax1.set_ylim(0, 1)\n",
    "    ax1.set_yticks([0, 1])\n",
    "    if i > 0:\n",
    "        ax1.set_yticklabels([])\n",
    "    for spine in ['top', 'bottom', 'right']:\n",
    "        ax1.spines[spine].set_visible(False)\n",
    "    plt.setp(ax1.get_xticklabels(), visible=False)\n",
    "    ax1.xaxis.set_ticks_position('none')\n",
    "\n",
    "    if i == 0:\n",
    "        annotate_subplot(ax0, ncols=12, nrows=2+len(models), letter='A')\n",
    "        annotate_subplot(ax1, ncols=12, nrows=2+len(models), letter='B')\n",
    "\n",
    "    # show prediction for every model, with asterisks for predicted events\n",
    "    for j, Y_pred in enumerate(Y_preds):\n",
    "        # find times of local peaks above threshold\n",
    "        y = Y_pred[i, :, 0]\n",
    "        peaks, props = ss.find_peaks(y, height=threshold, distance=distance, width=width)\n",
    "        \n",
    "        ax = fig.add_subplot(gs[j+2, i], sharex=ax0)  \n",
    "        ax.plot(time, y, 'k', lw=0.5, clip_on=False)\n",
    "        ax.text(time[0]-0.1, 0.5, \n",
    "                r'$\\hat{y}_\\mathrm{M' + '{}'.format(j+1) + '}^{\\langle' + '{}'.format(i+1) + r'\\rangle}(t)$', \n",
    "                ha='right', va='center')\n",
    "        ax.plot(time[peaks], y[peaks]+.1, 'kd', ms=8, clip_on=False)            \n",
    "        if j == len(Y_preds)-1:\n",
    "            ax.plot([0.8, 0.9], [-0.05, -0.05], 'k-', lw=1, clip_on=False)\n",
    "            ax.text(0.85, -0.1, '100 ms', va='top', ha='center')\n",
    "        ax.set_ylim(0, 1)\n",
    "        ax.set_xlim(time[0], time[-1])\n",
    "        ax.set_yticks([0, 1])\n",
    "        if i > 0:\n",
    "            ax.set_yticklabels([])\n",
    "        for spine in ['top', 'bottom', 'right']:\n",
    "            ax.spines[spine].set_visible(False)\n",
    "        plt.setp(ax.get_xticklabels(), visible=False)\n",
    "        ax.xaxis.set_ticks_position('none')\n",
    "        \n",
    "        if (i==0) & (j==0):\n",
    "            annotate_subplot(ax, ncols=12, nrows=2+len(models), letter='C')\n",
    "\n",
    "\n",
    "# save figure\n",
    "fig.savefig(os.path.join('figures', 'figure04.pdf'), dpi=300, bbox_inches='tight', pad_inches=0.05)\n",
    "fig.savefig(os.path.join('figures', 'figure04.eps'), dpi=300, bbox_inches='tight', pad_inches=0.05)"
   ]
  },
  {
   "cell_type": "markdown",
   "metadata": {
    "colab_type": "text",
    "id": "E_QYVXf-IIkI"
   },
   "source": [
    "# Quantify performance\n",
    "Accuracy measures:\n",
    "```\n",
    "# Accuracy = (TP + TN) / (TP + TN + FP + FN) # can't quantify count of TN\n",
    "Precision = TP / (TP + FP)\n",
    "Recall = TP / (TP + FN)\n",
    "F1 = 2 / (Precision^-1 + Recall^-1)\n",
    "```"
   ]
  },
  {
   "cell_type": "code",
   "execution_count": null,
   "metadata": {
    "colab": {
     "base_uri": "https://localhost:8080/",
     "height": 235
    },
    "colab_type": "code",
    "executionInfo": {
     "elapsed": 97644,
     "status": "ok",
     "timestamp": 1589370005121,
     "user": {
      "displayName": "Espen Hagen",
      "photoUrl": "",
      "userId": "16098989268258426650"
     },
     "user_tz": -120
    },
    "id": "imTCEdV5IIkN",
    "outputId": "a5bdd766-5a3c-493d-c93b-2229cc086635"
   },
   "outputs": [],
   "source": [
    "# container for stats\n",
    "df = pd.DataFrame(columns=['model', 'TP', 'FP', 'FN', 'FP+FN', 'Precision', 'Recall', 'F_1'], dtype='object')\n",
    "\n",
    "# iterate over models\n",
    "for i, Y_pred in enumerate(Y_preds):\n",
    "    # get metrics\n",
    "    TP, FP, FN, precision, recall, F1 = get_metrics(X_val, Y_val, Y_pred, labels, all_labels,\n",
    "                                                    threshold, distance, width,\n",
    "                                                    y_label_width=y_label_width, Fs=Fs)    \n",
    "    \n",
    "    # fill in dataframe\n",
    "    row_df = pd.DataFrame([[i+1, TP, FP, FN, FP+FN, precision, recall, F1]],\n",
    "                          columns=['model', 'TP', 'FP', 'FN', 'FP+FN', 'Precision', 'Recall', 'F_1'], \n",
    "                          dtype='object')\n",
    "    \n",
    "    df = pd.concat([df, row_df], axis=0, ignore_index=True)\n",
    "\n",
    "# display dataframe\n",
    "df"
   ]
  },
  {
   "cell_type": "code",
   "execution_count": null,
   "metadata": {
    "colab": {
     "base_uri": "https://localhost:8080/",
     "height": 238
    },
    "colab_type": "code",
    "executionInfo": {
     "elapsed": 97642,
     "status": "ok",
     "timestamp": 1589370005122,
     "user": {
      "displayName": "Espen Hagen",
      "photoUrl": "",
      "userId": "16098989268258426650"
     },
     "user_tz": -120
    },
    "id": "gd7CN6EeIIkf",
    "outputId": "1956d217-6974-49e6-d4d8-4266488fceff"
   },
   "outputs": [],
   "source": [
    "print(df.to_latex(index=False))"
   ]
  },
  {
   "cell_type": "markdown",
   "metadata": {
    "colab_type": "text",
    "id": "mhLEmjxBIIlQ"
   },
   "source": [
    "## figure 3\n",
    "Training loss, test metrics"
   ]
  },
  {
   "cell_type": "code",
   "execution_count": null,
   "metadata": {
    "colab": {
     "base_uri": "https://localhost:8080/",
     "height": 324
    },
    "colab_type": "code",
    "executionInfo": {
     "elapsed": 99839,
     "status": "ok",
     "timestamp": 1589370007322,
     "user": {
      "displayName": "Espen Hagen",
      "photoUrl": "",
      "userId": "16098989268258426650"
     },
     "user_tz": -120
    },
    "id": "ilOZlzj0IIlS",
    "outputId": "8ad4ad7c-e72b-4b39-b07c-49534e6671d0",
    "scrolled": false
   },
   "outputs": [],
   "source": [
    "fig = plt.figure(figsize=(12, 4))\n",
    "gs = GridSpec(1, 2, wspace=0.4, left=0.1, right=0.95, bottom=0.1, top=0.95)\n",
    "\n",
    "# plot training loss for the different models\n",
    "ax0 = fig.add_subplot(gs[0, 0])\n",
    "for i, loss in enumerate(losses):\n",
    "    ax0.semilogy(loss['loss'], '-', color='C{}'.format(i), \n",
    "                 label='M{}'.format(i+1))\n",
    "    ax0.semilogy(loss['val_loss'], ':', color='C{}'.format(i), \n",
    "                 label='__nolabel__',\n",
    "                )\n",
    "ax0.set_ylabel('$J$', labelpad=0)\n",
    "ax0.legend(ncol=2)\n",
    "ax0.set_xlabel('Epoch', labelpad=0)\n",
    "annotate_subplot(ax0, ncols=2, nrows=1, letter='A')\n",
    "\n",
    "\n",
    "# plot training MSE\n",
    "ax1 = fig.add_subplot(gs[0, 1], sharex=ax0)\n",
    "for i, loss in enumerate(losses):\n",
    "    epochs = np.arange(len(loss['mse']))+1\n",
    "    ax1.semilogy(epochs, loss['mse'], '-',  color='C{}'.format(i), \n",
    "                 label='M{}'.format(i+1))\n",
    "    ax1.semilogy(epochs, loss['val_mse'], ':', color='C{}'.format(i), \n",
    "                 label='__nolabel__'\n",
    "                )\n",
    "ax1.set_ylabel('$MSE$', labelpad=0)\n",
    "ax1.legend(ncol=2)\n",
    "ax1.set_xlabel('epoch', labelpad=0)\n",
    "annotate_subplot(ax1, ncols=2, nrows=1, letter='B')\n",
    "\n",
    "# save figure\n",
    "fig.savefig(os.path.join('figures', 'figure03.pdf'), dpi=300, bbox_inches='tight', pad_inches=0.05)\n",
    "fig.savefig(os.path.join('figures', 'figure03.eps'), dpi=300, bbox_inches='tight', pad_inches=0.05)"
   ]
  },
  {
   "cell_type": "markdown",
   "metadata": {
    "colab_type": "text",
    "id": "rf6Z8F4uIIlr"
   },
   "source": [
    "## figure 5\n",
    "Test dependence of (TP, FP, FN, precision, recall, F1) on threshold and width (ss.find_peaks hyperparameters)"
   ]
  },
  {
   "cell_type": "code",
   "execution_count": null,
   "metadata": {
    "colab": {},
    "colab_type": "code",
    "id": "Q-DYvG0rIImg"
   },
   "outputs": [],
   "source": [
    "thresholds = np.linspace(0.1, 0.95, 18)\n",
    "widths = np.linspace(0, 62.5, 11) #.astype(int) # width"
   ]
  },
  {
   "cell_type": "code",
   "execution_count": null,
   "metadata": {
    "colab": {
     "base_uri": "https://localhost:8080/",
     "height": 419
    },
    "colab_type": "code",
    "executionInfo": {
     "elapsed": 347171,
     "status": "ok",
     "timestamp": 1589370254663,
     "user": {
      "displayName": "Espen Hagen",
      "photoUrl": "",
      "userId": "16098989268258426650"
     },
     "user_tz": -120
    },
    "id": "3yKApfkFIIms",
    "outputId": "08a55cb0-f5ad-4ffc-9e8f-67cbcf09f409"
   },
   "outputs": [],
   "source": [
    "# container\n",
    "df = pd.DataFrame(columns=['model', 'threshold', 'width', 'TP', 'FP', 'FN', 'FP+FN', \n",
    "                           'Precision', 'Recall', 'F_1'], \n",
    "                  dtype='object')\n",
    "\n",
    "for threshold_ in thresholds:\n",
    "    for width_ in widths:\n",
    "        # iterate over models\n",
    "        for model, Y_pred in enumerate(Y_preds):\n",
    "            # get metrics\n",
    "            TP, FP, FN, precision, recall, F1 = get_metrics(X_val, Y_val, Y_pred, labels, all_labels,\n",
    "                                                            threshold_, distance, width_,\n",
    "                                                            y_label_width=y_label_width, Fs=Fs)\n",
    "\n",
    "            # fill in dataframe\n",
    "            row_df = pd.DataFrame([[model+1, threshold_, width_, TP, FP, FN, FP+FN, precision, recall, F1]],\n",
    "                                  columns=['model', 'threshold', 'width', \n",
    "                                           'TP', 'FP', 'FN', 'FP+FN', 'Precision', 'Recall', 'F_1'], \n",
    "                                  dtype='object')\n",
    "\n",
    "            df = pd.concat([df, row_df], axis=0, ignore_index=True)\n",
    "\n",
    "# width in units of ms\n",
    "df.insert(len(df.columns), 'width (ms)', df['width']*1000 / Fs)\n",
    "\n",
    "# display dataframe\n",
    "df"
   ]
  },
  {
   "cell_type": "code",
   "execution_count": null,
   "metadata": {
    "colab": {
     "base_uri": "https://localhost:8080/",
     "height": 502
    },
    "colab_type": "code",
    "executionInfo": {
     "elapsed": 369395,
     "status": "ok",
     "timestamp": 1589370276891,
     "user": {
      "displayName": "Espen Hagen",
      "photoUrl": "",
      "userId": "16098989268258426650"
     },
     "user_tz": -120
    },
    "id": "lu2e3GAcIImz",
    "outputId": "daf5f104-5045-41ec-8acd-1d36d2743980",
    "scrolled": false
   },
   "outputs": [],
   "source": [
    "fig, axes = plt.subplots(len(models), 7, figsize=(12, len(models)+1), sharex=True, sharey=True)\n",
    "from matplotlib.ticker import MaxNLocator\n",
    "\n",
    "# container for optimal detection settings\n",
    "df_opt = pd.DataFrame(columns=df.columns)\n",
    "\n",
    "for j, column in enumerate(['TP', 'FP', 'FN', 'FP+FN', 'Precision', 'Recall', 'F_1']):\n",
    "    values = [] # container to allow sharing colorbar\n",
    "    for i in range(len(models)):\n",
    "        df_ = df[df.model==i+1][['threshold', 'width (ms)', column]]\n",
    "        df_ = df_.pivot('threshold', 'width (ms)', column)\n",
    "        values.append(df_.values.astype(float))\n",
    "        if (i == 0) & (j == 0):\n",
    "            x, y = np.meshgrid(df_.columns.values, df_.index.values)\n",
    "\n",
    "    values = np.array(values)\n",
    "    pc = np.percentile(values.flatten(), [1, 99])\n",
    "    levels = np.linspace(pc[0], pc[1], 21)\n",
    "    for i in range(len(models)):\n",
    "        ax = axes[i, j]\n",
    "        if j == 0:\n",
    "            ax.set_ylabel('thresh.', labelpad=0)\n",
    "            annotate_subplot(ax, ncols=6, nrows=4, letter='M{}'.format(i+1), fontweight='normal')\n",
    "\n",
    "        df_ = df[df.model==i+1][['threshold', 'width (ms)', column]]\n",
    "        df_ = df_.pivot('threshold', 'width (ms)', column)\n",
    "        im = ax.contourf(x, y, values[i], levels=levels, \n",
    "                         cmap='inferno_r' if column in ['FP', 'FN', 'FP+FN'] else 'inferno', \n",
    "                         extend='both')\n",
    "        \n",
    "        if column == 'F_1':\n",
    "            inds = values[i] == values[i].max()\n",
    "            for i_, j_ in np.c_[np.where(inds)]:\n",
    "                df_opt = df_opt.append(df[(df['model']==i+1) &\n",
    "                                 (df['width (ms)']==x[i_, j_]) &\n",
    "                                 (df['threshold']==y[i_, j_])],\n",
    "                             ignore_index=True)\n",
    "            ax.plot(x[inds], y[inds], 'kx')\n",
    "            \n",
    "            \n",
    "        if i == len(models)-1:\n",
    "            ax.set_xlabel('width (ms)', labelpad=0)\n",
    "            rect = np.array(ax.get_position().bounds)\n",
    "            rect[1] -= 0.08\n",
    "            rect[3] = 0.01\n",
    "            fig = plt.gcf()\n",
    "            cax = fig.add_axes(rect)\n",
    "            cbar = fig.colorbar(im, cax=cax, orientation='horizontal')\n",
    "            cbar.locator = MaxNLocator(nbins=2)\n",
    "            cbar.update_ticks()\n",
    "            \n",
    "            cbar.set_label('${}$'.format(column), labelpad=0)\n",
    "\n",
    "fig.savefig(os.path.join('figures', 'figure05.pdf'), dpi=300, bbox_inches='tight', pad_inches=0.05)\n",
    "fig.savefig(os.path.join('figures', 'figure05.eps'), dpi=300, bbox_inches='tight', pad_inches=0.05)"
   ]
  },
  {
   "cell_type": "code",
   "execution_count": null,
   "metadata": {
    "colab": {
     "base_uri": "https://localhost:8080/",
     "height": 359
    },
    "colab_type": "code",
    "executionInfo": {
     "elapsed": 369394,
     "status": "ok",
     "timestamp": 1589370276892,
     "user": {
      "displayName": "Espen Hagen",
      "photoUrl": "",
      "userId": "16098989268258426650"
     },
     "user_tz": -120
    },
    "id": "DO7AGLFiIIm-",
    "outputId": "ea9c356e-0d87-47be-c60e-e722ebe00652"
   },
   "outputs": [],
   "source": [
    "df_opt"
   ]
  },
  {
   "cell_type": "code",
   "execution_count": null,
   "metadata": {
    "colab": {
     "base_uri": "https://localhost:8080/",
     "height": 306
    },
    "colab_type": "code",
    "executionInfo": {
     "elapsed": 369392,
     "status": "ok",
     "timestamp": 1589370276893,
     "user": {
      "displayName": "Espen Hagen",
      "photoUrl": "",
      "userId": "16098989268258426650"
     },
     "user_tz": -120
    },
    "id": "OGQb9MxvIInC",
    "outputId": "a69d6994-2cc9-436a-c091-2ee8fa9b250f"
   },
   "outputs": [],
   "source": [
    "print(df_opt.to_latex(index=False))"
   ]
  },
  {
   "cell_type": "code",
   "execution_count": null,
   "metadata": {
    "colab": {
     "base_uri": "https://localhost:8080/",
     "height": 235
    },
    "colab_type": "code",
    "executionInfo": {
     "elapsed": 369391,
     "status": "ok",
     "timestamp": 1589370276895,
     "user": {
      "displayName": "Espen Hagen",
      "photoUrl": "",
      "userId": "16098989268258426650"
     },
     "user_tz": -120
    },
    "id": "AfdwnlX0ghkO",
    "outputId": "5cf3c13a-0778-4708-e237-0761d4ece1af"
   },
   "outputs": [],
   "source": [
    "# mean thresholds and widths if multiple settings resulted in similar F1 score\n",
    "df_opt_mean = (df_opt.loc[:].groupby('model').sum() / df_opt.loc[:].groupby('model').count()).reset_index()\n",
    "df_opt_mean"
   ]
  },
  {
   "cell_type": "code",
   "execution_count": null,
   "metadata": {
    "colab": {},
    "colab_type": "code",
    "id": "6yttt4uHghkQ"
   },
   "outputs": [],
   "source": [
    "# save model file path and corresponding threshold and width\n",
    "best_model_settings = []\n",
    "for i, model_file in enumerate(model_files):\n",
    "    best_model_settings += [dict(\n",
    "        model_file = model_file,\n",
    "        threshold = df_opt_mean.loc[i].threshold,\n",
    "        width = df_opt_mean.loc[i].width,\n",
    "        distance = distance\n",
    "    )]\n",
    "with open('best_model_settings.pkl', 'wb') as f:\n",
    "    pickle.dump(best_model_settings, f)"
   ]
  },
  {
   "cell_type": "markdown",
   "metadata": {
    "colab_type": "text",
    "id": "Y5R_VWnmIInE"
   },
   "source": [
    "## Figure 6, 7"
   ]
  },
  {
   "cell_type": "code",
   "execution_count": null,
   "metadata": {
    "colab": {
     "base_uri": "https://localhost:8080/",
     "height": 80
    },
    "colab_type": "code",
    "executionInfo": {
     "elapsed": 369387,
     "status": "ok",
     "timestamp": 1589370276896,
     "user": {
      "displayName": "Espen Hagen",
      "photoUrl": "",
      "userId": "16098989268258426650"
     },
     "user_tz": -120
    },
    "id": "74ItqiIpa5Da",
    "outputId": "ba049bec-5a78-4999-9c03-754265b7670f"
   },
   "outputs": [],
   "source": [
    "df_opt[df_opt.F_1 == df_opt.F_1.max()]"
   ]
  },
  {
   "cell_type": "code",
   "execution_count": null,
   "metadata": {
    "colab": {},
    "colab_type": "code",
    "id": "X3mZPeZqIInQ"
   },
   "outputs": [],
   "source": [
    "# settings for the \"best\" model\n",
    "row = df_opt.F_1 == df_opt.F_1.max()\n",
    "threshold = df_opt[row].threshold.values[-1]\n",
    "width = df_opt[row].width.values[-1]\n",
    "Y_pred = Y_preds[df_opt[row].model.values[-1] - 1]"
   ]
  },
  {
   "cell_type": "code",
   "execution_count": null,
   "metadata": {
    "colab": {
     "base_uri": "https://localhost:8080/",
     "height": 34
    },
    "colab_type": "code",
    "executionInfo": {
     "elapsed": 369383,
     "status": "ok",
     "timestamp": 1589370276898,
     "user": {
      "displayName": "Espen Hagen",
      "photoUrl": "",
      "userId": "16098989268258426650"
     },
     "user_tz": -120
    },
    "id": "go5-eljyhEO-",
    "outputId": "7f4b07e3-03c4-48c3-98bf-c9099825e1fb"
   },
   "outputs": [],
   "source": [
    "# which model file\n",
    "model_files[df_opt[row].model.values[-1] - 1]"
   ]
  },
  {
   "cell_type": "code",
   "execution_count": null,
   "metadata": {
    "colab": {},
    "colab_type": "code",
    "id": "_8AHXmrTnZU2"
   },
   "outputs": [],
   "source": [
    "# write best model info to file for loading in other notebooks\n",
    "best_model = dict(\n",
    "    model_file=model_files[df_opt[row].model.values[-1] - 1], \n",
    "    threshold=threshold,\n",
    "    width=width,\n",
    "    distance=distance,\n",
    ")\n",
    "with open('best_model.pkl', 'wb') as f:\n",
    "    pickle.dump(best_model, f)"
   ]
  },
  {
   "cell_type": "code",
   "execution_count": null,
   "metadata": {
    "colab": {},
    "colab_type": "code",
    "id": "icImeTmejCaH"
   },
   "outputs": [],
   "source": [
    "TP, FP, FN, precision, recall, F1 = get_metrics(X_val, Y_val, Y_pred, labels, all_labels,\n",
    "                                                    threshold, distance, width,\n",
    "                                                    y_label_width=y_label_width, Fs=Fs)"
   ]
  },
  {
   "cell_type": "code",
   "execution_count": null,
   "metadata": {
    "colab": {},
    "colab_type": "code",
    "id": "iKjolugHjCaJ"
   },
   "outputs": [],
   "source": [
    "TPs, FPs, FNs = get_TPs_FPs_FNs(X_val, Y_val, Y_pred, X1, S, labels, all_labels, \n",
    "                                threshold, distance, width,\n",
    "                                Fs=Fs, y_label_width=y_label_width)"
   ]
  },
  {
   "cell_type": "code",
   "execution_count": null,
   "metadata": {
    "colab": {
     "base_uri": "https://localhost:8080/",
     "height": 1000,
     "output_embedded_package_id": "1RVZclbqNXMrWaz-TrmebrT8t0GMVRRtr"
    },
    "colab_type": "code",
    "executionInfo": {
     "elapsed": 551042,
     "status": "ok",
     "timestamp": 1589370458581,
     "user": {
      "displayName": "Espen Hagen",
      "photoUrl": "",
      "userId": "16098989268258426650"
     },
     "user_tz": -120
    },
    "id": "U2fs3ygpK1TC",
    "outputId": "7bc81b88-1e92-4555-9b0a-dcd74ab683b4",
    "scrolled": false
   },
   "outputs": [],
   "source": [
    "# plot validation set entries with mistakes (FP and/or FN predictions)\n",
    "badinds = np.unique(np.r_[FPs['i'], FNs['i']])\n",
    "\n",
    "for h in range(badinds.size // ncols):\n",
    "    inds = badinds[h*ncols:(h+1)*ncols]\n",
    "\n",
    "    fig, axes = plt.subplots(4, ncols, figsize=(12, 6), \n",
    "                            sharex=True, sharey='row')\n",
    "    fig.subplots_adjust(left=0.05, right=0.95, bottom=0.05, top=0.925, wspace=0.1, hspace=0.4, )\n",
    "\n",
    "    for i, ind in enumerate(inds):\n",
    "        X_val_ = X_val[ind]\n",
    "        Y_ = Y[ind, :].flatten()\n",
    "        y = Y_pred[ind]\n",
    "        X0_ = X0[ind]\n",
    "        X1_ = X1[ind]\n",
    "        S_ = S[ind]\n",
    "\n",
    "        # Raw LFP + symbols for labels\n",
    "        axes[0, i].plot(time, X0_, 'k', lw=0.5, label=r'$X^{\\langle ' + str(ind)+ r' \\rangle}(t)$')\n",
    "        idx = all_labels['session'] == labels['session'][ind]\n",
    "        lbls = all_labels['rippleLocs'][idx] - labels[ind]['rippleLocs'] - labels[ind]['offset']\n",
    "        lblinds = lbls[(lbls >= 0) & (lbls < Fs)]\n",
    "        axes[0, i].plot(time[lblinds], X0_[lblinds]+0.4, 'C2d', ms=8, clip_on=False)\n",
    "\n",
    "        for spine in ['top', 'bottom', 'right']:\n",
    "            axes[0, i].spines[spine].set_visible(False)\n",
    "        plt.setp(axes[0, i].get_xticklabels(), visible=False)\n",
    "        axes[0, i].xaxis.set_ticks_position('none')\n",
    "\n",
    "        \n",
    "        # band-pass filtered LFP\n",
    "        axes[1, i].plot(time, X1_, 'k', lw=0.5, label=r'$\\phi_\\mathrm{BP}^{\\langle j \\rangle}(t)$')    \n",
    "        for spine in ['top', 'bottom', 'right']:\n",
    "            axes[1, i].spines[spine].set_visible(False)\n",
    "        plt.setp(axes[1, i].get_xticklabels(), visible=False)\n",
    "        axes[1, i].xaxis.set_ticks_position('none')\n",
    "\n",
    "        # Spectrograms\n",
    "        vmin, vmax = np.exp(np.percentile(np.log(S), [1, 99]))\n",
    "        im = axes[2, i].pcolormesh(time, S_freqs, S_.T, norm=colors.LogNorm(vmin=vmin, vmax=vmax), \n",
    "                                   cmap='inferno',\n",
    "                                   rasterized=True)\n",
    "        if i == inds.size-1:\n",
    "            rect = np.array(axes[2, i].get_position().bounds)\n",
    "            rect[0] += rect[2] + 0.01\n",
    "            rect[2] = 0.01\n",
    "            fig = plt.gcf()\n",
    "            cax = fig.add_axes(rect)\n",
    "            \n",
    "            cbar = fig.colorbar(im, cax=cax, extend='both')\n",
    "            cbar.set_ticks(10.**np.arange(-6, 5))\n",
    "            cbar.set_label('(a.u.)', labelpad=0)\n",
    "\n",
    "        # plot one-hot encoding\n",
    "        #axes[3, i].plot(time, Y_, 'gray', lw=0.5, label='__nolabel__', clip_on=False)\n",
    "\n",
    "        # plot \\hat{y} + predictions\n",
    "        axes[3, i].plot(time, y, 'k', lw=0.5, label='__nolabel__', #label='$\\hat{y}(t)$', \n",
    "                        clip_on=False)\n",
    "\n",
    "        # mark TP events:\n",
    "        j = TPs['j'][TPs['i'] == ind]\n",
    "        axes[3, i].plot(time[j], y[j]+0.1, 'C2d', ms=8, label='TP', clip_on=False) \n",
    "\n",
    "        # mark FP events:\n",
    "        j = FPs['j'][FPs['i'] == ind]\n",
    "        axes[3, i].plot(time[j], y[j]+0.1, 'C1d', ms=8, label='FP', clip_on=False) \n",
    "\n",
    "        # mark FN events:\n",
    "        j = FNs['j'][FNs['i'] == ind]\n",
    "        axes[3, i].plot(time[j], y[j]+0.1, 'C3d', ms=8, label='FN', clip_on=False) \n",
    "\n",
    "        if i == ncols-1:\n",
    "            axes[3, i].legend(frameon=False, bbox_to_anchor=(1.0, 1.0))\n",
    "\n",
    "\n",
    "        axes[3, i].plot([0.8, 0.9], [-0.05, -0.05], 'k-', lw=1, clip_on=False)\n",
    "        axes[3, i].text(0.85, -0.1, '100 ms', va='top', ha='center')\n",
    "        axes[3, i].set_ylim(0, 1.1)\n",
    "        axes[3, i].set_xlim(time[0], time[-1])\n",
    "        axes[3, i].set_yticks([0, 1])\n",
    "        for spine in ['top', 'bottom', 'right']:\n",
    "            axes[3, i].spines[spine].set_visible(False)\n",
    "        plt.setp(axes[3, i].get_xticklabels(), visible=False)\n",
    "        axes[3, i].xaxis.set_ticks_position('none')\n",
    "\n",
    "\n",
    "        axes[0, i].set_title(r'$X^{\\langle ' + str(ind+1)+ r' \\rangle}(t)$')\n",
    "        axes[1, i].set_title(r'$\\phi_\\mathrm{BP}^{\\langle ' + str(ind+1)+ r' \\rangle}(t)$')\n",
    "        axes[2, i].set_title(r'$S^{\\langle ' + str(ind+1)+ r' \\rangle}(t, f)$')\n",
    "        axes[3, i].set_title(r'$\\hat{y}^{\\langle ' + str(ind+1)+ r' \\rangle}(t)$')\n",
    "        \n",
    "        if i == 0:\n",
    "            axes[0, i].set_ylabel('(mV)', labelpad=0)\n",
    "            axes[1, i].set_ylabel('(mV)', labelpad=0)\n",
    "            axes[2, i].set_ylabel('$f$ (Hz)', labelpad=0)\n",
    "            axes[3, i].set_ylabel('$\\hat{y}$', labelpad=0)\n",
    "\n",
    "            annotate_subplot(axes[0, i], ncols=10, nrows=4, letter='A')\n",
    "            annotate_subplot(axes[1, i], ncols=10, nrows=4, letter='B')\n",
    "            annotate_subplot(axes[2, i], ncols=10, nrows=4, letter='C')\n",
    "            annotate_subplot(axes[3, i], ncols=10, nrows=4, letter='D')\n",
    "    \n",
    "    fig.savefig(os.path.join('figures', 'figure{:02}.pdf'.format(h+6)), \n",
    "                dpi=300, bbox_inches='tight', pad_inches=0.05)\n",
    "    fig.savefig(os.path.join('figures', 'figure{:02}.eps'.format(h+6)), \n",
    "                dpi=300, bbox_inches='tight', pad_inches=0.05)"
   ]
  },
  {
   "cell_type": "code",
   "execution_count": null,
   "metadata": {
    "colab": {},
    "colab_type": "code",
    "id": "53QQKD7-jCaQ"
   },
   "outputs": [],
   "source": []
  }
 ],
 "metadata": {
  "accelerator": "GPU",
  "colab": {
   "collapsed_sections": [],
   "name": "RippleNet_manuscript_figures.ipynb",
   "provenance": []
  },
  "kernelspec": {
   "display_name": "Python 3",
   "language": "python",
   "name": "python3"
  },
  "language_info": {
   "codemirror_mode": {
    "name": "ipython",
    "version": 3
   },
   "file_extension": ".py",
   "mimetype": "text/x-python",
   "name": "python",
   "nbconvert_exporter": "python",
   "pygments_lexer": "ipython3",
   "version": "3.6.10"
  }
 },
 "nbformat": 4,
 "nbformat_minor": 1
}
